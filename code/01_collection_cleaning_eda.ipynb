{
 "cells": [
  {
   "cell_type": "markdown",
   "metadata": {},
   "source": [
    "# Animorphs Authenticity, Notebook 01\n",
    "#### Ethan Henley"
   ]
  },
  {
   "cell_type": "markdown",
   "metadata": {},
   "source": [
    "## Problem Statement:\n",
    "\n",
    "When authorship is uncertain, specific word choices and text patterns can be used to determine whether or not a text was written by a certain author. We want to develop a model for reading in two large corpuses, one authentically written by an author and one ghostwritten, and predicting which corpus a text belongs to. \n",
    "\n",
    "One recent [paper](https://arxiv.org/abs/1911.05652) by Petr Plecháč analyzed the authorship of specific subsections of the play Henry VIII to determine where either of the authors suspected of involvement contributed. Its methodology is not directly applicable to non-poetic texts, as it greatly involves cadence and meter in its modeling process. We will to perform similar analysis on another, non-metered corpus to generalize author authenticity analysis.\n",
    "\n",
    "For this analysis, we will use the Animorphs series, 54 children's science-fiction/fantasy books of which about half were ghostwritten, as our corpus. The model will be specific to this collection of books, but the strategies implemented should be relevant for other authorship analyses.\n",
    "\n",
    "We will vectorize words in individual chapters of Animorphs books using Word2Vec against the corpus as a whole, and then take each chapter's average vector, reduce its dimensionality, and then use a Simple Vector Machine classifier to delineate author authenticity. The classifier will be scored on accuracy, as the two types of misattribution are similarly undesirable."
   ]
  },
  {
   "cell_type": "markdown",
   "metadata": {},
   "source": [
    "## Collection & EDA Process:\n",
    "\n",
    "The corpus was gathered from [Richard's Animorphs Forum](https://animorphsforum.com/ebooks/), where the Animorphs series of books is hosted for free access with the blessing of the creator. We use the main series only. Authenicity was taken from [this Wikipedia section](https://en.wikipedia.org/wiki/Animorphs#Ghostwriters). Books were read chapter by chapter using `ebooklib` and `BeautifulSoup`. Chapters were processed, proper nouns and stopwords were removed, and then words were tokenized to develop a corpus. A first quick look showed what words were most common across the corpus."
   ]
  },
  {
   "cell_type": "code",
   "execution_count": 1,
   "metadata": {},
   "outputs": [],
   "source": [
    "import pandas as pd\n",
    "\n",
    "import requests\n",
    "\n",
    "import time\n",
    "\n",
    "import re\n",
    "from nltk.corpus import stopwords\n",
    "\n",
    "import ebooklib\n",
    "from ebooklib import epub\n",
    "from bs4 import BeautifulSoup\n",
    "\n",
    "from collections import Counter\n",
    "\n",
    "import matplotlib.pyplot as plt"
   ]
  },
  {
   "cell_type": "markdown",
   "metadata": {},
   "source": [
    "## Data Collection"
   ]
  },
  {
   "cell_type": "markdown",
   "metadata": {},
   "source": [
    "Read out all the books' chapters into a two-layer dictionary. \n",
    "\n",
    "Books are downloaded as `.epub` files from [Richard's Animorphs Forum](https://animorphsforum.com/ebooks/)."
   ]
  },
  {
   "cell_type": "code",
   "execution_count": 2,
   "metadata": {},
   "outputs": [],
   "source": [
    "# front of url for downloads\n",
    "url_front = 'http://downloads.animorphsforum.com/books/epub/'\n",
    "\n",
    "# need a standard user agent header to access file;\n",
    "# default requests ua not accepted\n",
    "headers = {'User-Agent':\n",
    "           'Mozilla/5.0 (compatible, MSIE 11, Windows NT 6.3; '+\\\n",
    "               'Trident/7.0; rv:11.0) like Gecko'}"
   ]
  },
  {
   "cell_type": "code",
   "execution_count": 3,
   "metadata": {},
   "outputs": [],
   "source": [
    "books_dict = {}\n",
    "\n",
    "for book_no in range(1,55): # for each book in main series\n",
    "    \n",
    "    no_string = str(book_no).zfill(2) # format leading 0\n",
    "    \n",
    "    # read in book\n",
    "    try: # is book already downloaded?\n",
    "        book = epub.read_epub(f'../texts/animorphs_books/{no_string}.epub')\n",
    "    except: # download book\n",
    "        url = url_front + f'{no_string}.epub'\n",
    "        res = requests.get(url, headers=headers) # request book\n",
    "        assert res.status_code == 200\n",
    "        # save book to file\n",
    "        file = open(f'../texts/animorphs_books/{no_string}.epub','wb')\n",
    "        file.write(res.content)\n",
    "        file.close()\n",
    "        time.sleep(2) # avoid hogging bandwidth\n",
    "        book = epub.read_epub(f'../texts/animorphs_books/{no_string}.epub')        \n",
    "    \n",
    "    # get chapters and chapter-like things; index no.s may not correspond\n",
    "    # to actual chapter no.s\n",
    "    chapters = [c for c in book.get_items_of_type(ebooklib.ITEM_DOCUMENT)]\n",
    "\n",
    "    chapter_dict = {}\n",
    "    for chapter_no, chapter in enumerate(chapters): # for chapter in book\n",
    "        \n",
    "        # list of paragraphs as strings\n",
    "        paragraphs = [b.text for b in \n",
    "                      BeautifulSoup(chapter.content, 'xml'\n",
    "                                   ).find_all('p')][1:] # p0 always blank\n",
    "        \n",
    "        chapter_dict[chapter_no] = '\\n'.join(paragraphs) # list as lines\n",
    "        \n",
    "    books_dict[book_no] = chapter_dict"
   ]
  },
  {
   "cell_type": "markdown",
   "metadata": {},
   "source": [
    "Convert dictionary into df of chapters."
   ]
  },
  {
   "cell_type": "code",
   "execution_count": 4,
   "metadata": {},
   "outputs": [],
   "source": [
    "df_list = []\n",
    "\n",
    "for k,v in books_dict.items():\n",
    "    for vk,vv in v.items():\n",
    "        df = pd.DataFrame({'book':k,\n",
    "                           'chapter':vk,\n",
    "                           'text':vv}, index=[0])\n",
    "        df_list.append(df)\n",
    "\n",
    "books_df = pd.concat(df_list).reset_index().drop(columns='index') # combine\n",
    "books_df = books_df[books_df['text'] != ''] # clean 'empty' chapters"
   ]
  },
  {
   "cell_type": "code",
   "execution_count": 5,
   "metadata": {},
   "outputs": [
    {
     "data": {
      "text/html": [
       "<div>\n",
       "<style scoped>\n",
       "    .dataframe tbody tr th:only-of-type {\n",
       "        vertical-align: middle;\n",
       "    }\n",
       "\n",
       "    .dataframe tbody tr th {\n",
       "        vertical-align: top;\n",
       "    }\n",
       "\n",
       "    .dataframe thead th {\n",
       "        text-align: right;\n",
       "    }\n",
       "</style>\n",
       "<table border=\"1\" class=\"dataframe\">\n",
       "  <thead>\n",
       "    <tr style=\"text-align: right;\">\n",
       "      <th></th>\n",
       "      <th>book</th>\n",
       "      <th>chapter</th>\n",
       "      <th>text</th>\n",
       "    </tr>\n",
       "  </thead>\n",
       "  <tbody>\n",
       "    <tr>\n",
       "      <th>1</th>\n",
       "      <td>1</td>\n",
       "      <td>1</td>\n",
       "      <td>My name is Jake. That's my first name, obvious...</td>\n",
       "    </tr>\n",
       "    <tr>\n",
       "      <th>2</th>\n",
       "      <td>1</td>\n",
       "      <td>2</td>\n",
       "      <td>\"A flying saucer?\" Marco said. He did laugh. T...</td>\n",
       "    </tr>\n",
       "    <tr>\n",
       "      <th>3</th>\n",
       "      <td>1</td>\n",
       "      <td>3</td>\n",
       "      <td>&lt;They have come to destroy you.&gt;\\nIt was stran...</td>\n",
       "    </tr>\n",
       "    <tr>\n",
       "      <th>4</th>\n",
       "      <td>1</td>\n",
       "      <td>4</td>\n",
       "      <td>&lt;Yeerks!&gt;\\nThe twin red lights slowed. They tu...</td>\n",
       "    </tr>\n",
       "    <tr>\n",
       "      <th>5</th>\n",
       "      <td>1</td>\n",
       "      <td>5</td>\n",
       "      <td>The Hork-Bajir pointed his gun, or whatever it...</td>\n",
       "    </tr>\n",
       "    <tr>\n",
       "      <th>...</th>\n",
       "      <td>...</td>\n",
       "      <td>...</td>\n",
       "      <td>...</td>\n",
       "    </tr>\n",
       "    <tr>\n",
       "      <th>1520</th>\n",
       "      <td>54</td>\n",
       "      <td>18</td>\n",
       "      <td>The world's smartest mouse wiggled his nose at...</td>\n",
       "    </tr>\n",
       "    <tr>\n",
       "      <th>1521</th>\n",
       "      <td>54</td>\n",
       "      <td>19</td>\n",
       "      <td>I had nine million four hundred and thirty-two...</td>\n",
       "    </tr>\n",
       "    <tr>\n",
       "      <th>1522</th>\n",
       "      <td>54</td>\n",
       "      <td>20</td>\n",
       "      <td>We drove through the desert night, silent most...</td>\n",
       "    </tr>\n",
       "    <tr>\n",
       "      <th>1523</th>\n",
       "      <td>54</td>\n",
       "      <td>21</td>\n",
       "      <td>The Rachel was fast.\\nWe blew through normal s...</td>\n",
       "    </tr>\n",
       "    <tr>\n",
       "      <th>1525</th>\n",
       "      <td>54</td>\n",
       "      <td>23</td>\n",
       "      <td>I know, I know, it's rotten of me to leave you...</td>\n",
       "    </tr>\n",
       "  </tbody>\n",
       "</table>\n",
       "<p>1418 rows × 3 columns</p>\n",
       "</div>"
      ],
      "text/plain": [
       "      book  chapter                                               text\n",
       "1        1        1  My name is Jake. That's my first name, obvious...\n",
       "2        1        2  \"A flying saucer?\" Marco said. He did laugh. T...\n",
       "3        1        3  <They have come to destroy you.>\\nIt was stran...\n",
       "4        1        4  <Yeerks!>\\nThe twin red lights slowed. They tu...\n",
       "5        1        5  The Hork-Bajir pointed his gun, or whatever it...\n",
       "...    ...      ...                                                ...\n",
       "1520    54       18  The world's smartest mouse wiggled his nose at...\n",
       "1521    54       19  I had nine million four hundred and thirty-two...\n",
       "1522    54       20  We drove through the desert night, silent most...\n",
       "1523    54       21  The Rachel was fast.\\nWe blew through normal s...\n",
       "1525    54       23  I know, I know, it's rotten of me to leave you...\n",
       "\n",
       "[1418 rows x 3 columns]"
      ]
     },
     "execution_count": 5,
     "metadata": {},
     "output_type": "execute_result"
    }
   ],
   "source": [
    "books_df"
   ]
  },
  {
   "cell_type": "markdown",
   "metadata": {},
   "source": [
    "Add authenticity columns; 1 denotes a book written by Applegate, 0 denotes a book ghostwritten."
   ]
  },
  {
   "cell_type": "code",
   "execution_count": 6,
   "metadata": {},
   "outputs": [
    {
     "data": {
      "text/html": [
       "<div>\n",
       "<style scoped>\n",
       "    .dataframe tbody tr th:only-of-type {\n",
       "        vertical-align: middle;\n",
       "    }\n",
       "\n",
       "    .dataframe tbody tr th {\n",
       "        vertical-align: top;\n",
       "    }\n",
       "\n",
       "    .dataframe thead th {\n",
       "        text-align: right;\n",
       "    }\n",
       "</style>\n",
       "<table border=\"1\" class=\"dataframe\">\n",
       "  <thead>\n",
       "    <tr style=\"text-align: right;\">\n",
       "      <th></th>\n",
       "      <th>book</th>\n",
       "      <th>chapter</th>\n",
       "      <th>text</th>\n",
       "      <th>authenticity</th>\n",
       "    </tr>\n",
       "  </thead>\n",
       "  <tbody>\n",
       "    <tr>\n",
       "      <th>1</th>\n",
       "      <td>1</td>\n",
       "      <td>1</td>\n",
       "      <td>My name is Jake. That's my first name, obvious...</td>\n",
       "      <td>1</td>\n",
       "    </tr>\n",
       "    <tr>\n",
       "      <th>2</th>\n",
       "      <td>1</td>\n",
       "      <td>2</td>\n",
       "      <td>\"A flying saucer?\" Marco said. He did laugh. T...</td>\n",
       "      <td>1</td>\n",
       "    </tr>\n",
       "    <tr>\n",
       "      <th>3</th>\n",
       "      <td>1</td>\n",
       "      <td>3</td>\n",
       "      <td>&lt;They have come to destroy you.&gt;\\nIt was stran...</td>\n",
       "      <td>1</td>\n",
       "    </tr>\n",
       "    <tr>\n",
       "      <th>4</th>\n",
       "      <td>1</td>\n",
       "      <td>4</td>\n",
       "      <td>&lt;Yeerks!&gt;\\nThe twin red lights slowed. They tu...</td>\n",
       "      <td>1</td>\n",
       "    </tr>\n",
       "    <tr>\n",
       "      <th>5</th>\n",
       "      <td>1</td>\n",
       "      <td>5</td>\n",
       "      <td>The Hork-Bajir pointed his gun, or whatever it...</td>\n",
       "      <td>1</td>\n",
       "    </tr>\n",
       "  </tbody>\n",
       "</table>\n",
       "</div>"
      ],
      "text/plain": [
       "   book  chapter                                               text  \\\n",
       "1     1        1  My name is Jake. That's my first name, obvious...   \n",
       "2     1        2  \"A flying saucer?\" Marco said. He did laugh. T...   \n",
       "3     1        3  <They have come to destroy you.>\\nIt was stran...   \n",
       "4     1        4  <Yeerks!>\\nThe twin red lights slowed. They tu...   \n",
       "5     1        5  The Hork-Bajir pointed his gun, or whatever it...   \n",
       "\n",
       "   authenticity  \n",
       "1             1  \n",
       "2             1  \n",
       "3             1  \n",
       "4             1  \n",
       "5             1  "
      ]
     },
     "execution_count": 6,
     "metadata": {},
     "output_type": "execute_result"
    }
   ],
   "source": [
    "auths = [i for i in range(1,25)] + [26, 32, 53, 54]\n",
    "books_df['authenticity'] = books_df['book'].map(lambda b: int(b in auths))\n",
    "\n",
    "books_df.head()"
   ]
  },
  {
   "cell_type": "markdown",
   "metadata": {},
   "source": [
    "## Cleaning"
   ]
  },
  {
   "cell_type": "markdown",
   "metadata": {},
   "source": [
    "For Word2Vec analysis, will need to aggressively remove stopwords, including common proper nouns that may show up different amounts throughout the books. We will also need to remove all non-word elements, such as punctuation."
   ]
  },
  {
   "cell_type": "markdown",
   "metadata": {},
   "source": [
    "We remove proper nouns primarily to avoid 'cheating'; because each book has a perspective character, characters appear more often in some books than others, and this may inappropriately 'help' the model isolate individual books without using information related to author style.\n",
    "\n",
    "Additionally, because this is a science fiction series, there are many alien species who come up in only some of the books; our list of proper nouns will not include the names of alien species that come up in most of the books."
   ]
  },
  {
   "cell_type": "code",
   "execution_count": 7,
   "metadata": {},
   "outputs": [],
   "source": [
    "# frequent character names and other proper nouns\n",
    "# manually collected from the text and animorphs.fandom.com\n",
    "names = ['jake','rachel','marco','james','craig','erica','tobias',\n",
    "         'cassie','aximili','esgarrouth','isthill', 'ax',\n",
    "         'aximiliesgarrouthisthill','david','melissa','chapman',\n",
    "         'collette','kelly','timmy','julio','liam','tricia','jessie',\n",
    "         'judy','ray', 'gafinilan','estrif','valad','gafinilanestrifvalad',\n",
    "         'erek','king','tom','taylor','karen','arbat','elivat','estoni',\n",
    "         'arbatelivatestoni','aldrea','iskillion','falan',\n",
    "         'aldreaiskillionfalan','william','tennant','mertil','iscar',\n",
    "         'elmand','mertiliscarelmand']\n",
    "pnouns = ['taxon','helmacron','helmacrons']\n",
    "\n",
    "# some other stopwords to include\n",
    "other_stops = ['said', 'like','one']\n",
    "\n",
    "# all extra stopwords\n",
    "extra_stops = names + pnouns + other_stops"
   ]
  },
  {
   "cell_type": "code",
   "execution_count": 8,
   "metadata": {},
   "outputs": [],
   "source": [
    "# set up stopwords, including selected proper nouns\n",
    "\n",
    "stops = stopwords.words('english') + extra_stops\n",
    "\n",
    "# clean stops to same format as other text\n",
    "\n",
    "stops = re.sub(r'[^a-zA-Z ]','',' '.join(stops)).lower().split()"
   ]
  },
  {
   "cell_type": "code",
   "execution_count": 9,
   "metadata": {},
   "outputs": [],
   "source": [
    "def clean_chapter(chapter, stops=stops, use_stops=True):\n",
    "    \"\"\"\n",
    "    A function to clean and tokenize a chapter of text.\n",
    "    \"\"\"\n",
    "    # regex non-letters, lowercase, tokenize\n",
    "    chapter = chapter.replace('-',' ').replace('\\n',' ')\n",
    "    chapter = re.sub(r'[^a-zA-Z ]','',chapter).lower().split()\n",
    "    if use_stops: # remove stopwords\n",
    "        chapter = [w for w in chapter if w not in stops]\n",
    "    return chapter"
   ]
  },
  {
   "cell_type": "markdown",
   "metadata": {},
   "source": [
    "Check that the cleaning makes sense."
   ]
  },
  {
   "cell_type": "code",
   "execution_count": 10,
   "metadata": {},
   "outputs": [
    {
     "data": {
      "text/plain": [
       "\"My name is Jake. That's my first name, obviously. I can't tell you my last name. It would be too dangerous. The Controllers are everywhere. Everywhere. And if they knew my full name, they could find\""
      ]
     },
     "execution_count": 10,
     "metadata": {},
     "output_type": "execute_result"
    }
   ],
   "source": [
    "# test-visualize the start of a single chapter\n",
    "books_df.loc[1,'text'][:198]"
   ]
  },
  {
   "cell_type": "code",
   "execution_count": 11,
   "metadata": {},
   "outputs": [
    {
     "data": {
      "text/plain": [
       "['name',\n",
       " 'thats',\n",
       " 'first',\n",
       " 'name',\n",
       " 'obviously',\n",
       " 'cant',\n",
       " 'tell',\n",
       " 'last',\n",
       " 'name',\n",
       " 'would',\n",
       " 'dangerous',\n",
       " 'controllers',\n",
       " 'everywhere',\n",
       " 'everywhere',\n",
       " 'knew',\n",
       " 'full',\n",
       " 'name',\n",
       " 'could',\n",
       " 'find']"
      ]
     },
     "execution_count": 11,
     "metadata": {},
     "output_type": "execute_result"
    }
   ],
   "source": [
    "# test-visualize the same text, preprocessed\n",
    "clean_chapter(books_df.loc[1,'text'][:198])"
   ]
  },
  {
   "cell_type": "markdown",
   "metadata": {},
   "source": [
    "Cleaned text makes sense. Create cleaned chapter text column."
   ]
  },
  {
   "cell_type": "code",
   "execution_count": 12,
   "metadata": {},
   "outputs": [
    {
     "data": {
      "text/html": [
       "<div>\n",
       "<style scoped>\n",
       "    .dataframe tbody tr th:only-of-type {\n",
       "        vertical-align: middle;\n",
       "    }\n",
       "\n",
       "    .dataframe tbody tr th {\n",
       "        vertical-align: top;\n",
       "    }\n",
       "\n",
       "    .dataframe thead th {\n",
       "        text-align: right;\n",
       "    }\n",
       "</style>\n",
       "<table border=\"1\" class=\"dataframe\">\n",
       "  <thead>\n",
       "    <tr style=\"text-align: right;\">\n",
       "      <th></th>\n",
       "      <th>book</th>\n",
       "      <th>chapter</th>\n",
       "      <th>text</th>\n",
       "      <th>authenticity</th>\n",
       "      <th>clean</th>\n",
       "    </tr>\n",
       "  </thead>\n",
       "  <tbody>\n",
       "    <tr>\n",
       "      <th>1</th>\n",
       "      <td>1</td>\n",
       "      <td>1</td>\n",
       "      <td>My name is Jake. That's my first name, obvious...</td>\n",
       "      <td>1</td>\n",
       "      <td>[name, thats, first, name, obviously, cant, te...</td>\n",
       "    </tr>\n",
       "    <tr>\n",
       "      <th>2</th>\n",
       "      <td>1</td>\n",
       "      <td>2</td>\n",
       "      <td>\"A flying saucer?\" Marco said. He did laugh. T...</td>\n",
       "      <td>1</td>\n",
       "      <td>[flying, saucer, laugh, looked, could, feel, h...</td>\n",
       "    </tr>\n",
       "    <tr>\n",
       "      <th>3</th>\n",
       "      <td>1</td>\n",
       "      <td>3</td>\n",
       "      <td>&lt;They have come to destroy you.&gt;\\nIt was stran...</td>\n",
       "      <td>1</td>\n",
       "      <td>[come, destroy, strange, way, knew, telling, t...</td>\n",
       "    </tr>\n",
       "    <tr>\n",
       "      <th>4</th>\n",
       "      <td>1</td>\n",
       "      <td>4</td>\n",
       "      <td>&lt;Yeerks!&gt;\\nThe twin red lights slowed. They tu...</td>\n",
       "      <td>1</td>\n",
       "      <td>[yeerks, twin, red, lights, slowed, turned, ci...</td>\n",
       "    </tr>\n",
       "    <tr>\n",
       "      <th>5</th>\n",
       "      <td>1</td>\n",
       "      <td>5</td>\n",
       "      <td>The Hork-Bajir pointed his gun, or whatever it...</td>\n",
       "      <td>1</td>\n",
       "      <td>[hork, bajir, pointed, gun, whatever, around, ...</td>\n",
       "    </tr>\n",
       "  </tbody>\n",
       "</table>\n",
       "</div>"
      ],
      "text/plain": [
       "   book  chapter                                               text  \\\n",
       "1     1        1  My name is Jake. That's my first name, obvious...   \n",
       "2     1        2  \"A flying saucer?\" Marco said. He did laugh. T...   \n",
       "3     1        3  <They have come to destroy you.>\\nIt was stran...   \n",
       "4     1        4  <Yeerks!>\\nThe twin red lights slowed. They tu...   \n",
       "5     1        5  The Hork-Bajir pointed his gun, or whatever it...   \n",
       "\n",
       "   authenticity                                              clean  \n",
       "1             1  [name, thats, first, name, obviously, cant, te...  \n",
       "2             1  [flying, saucer, laugh, looked, could, feel, h...  \n",
       "3             1  [come, destroy, strange, way, knew, telling, t...  \n",
       "4             1  [yeerks, twin, red, lights, slowed, turned, ci...  \n",
       "5             1  [hork, bajir, pointed, gun, whatever, around, ...  "
      ]
     },
     "execution_count": 12,
     "metadata": {},
     "output_type": "execute_result"
    }
   ],
   "source": [
    "books_df['clean'] = books_df['text'].map(clean_chapter)\n",
    "books_df.head()"
   ]
  },
  {
   "cell_type": "markdown",
   "metadata": {},
   "source": [
    "Just in case we don't want to use stopwords, add another column that hasn't removed them."
   ]
  },
  {
   "cell_type": "code",
   "execution_count": 13,
   "metadata": {},
   "outputs": [
    {
     "data": {
      "text/html": [
       "<div>\n",
       "<style scoped>\n",
       "    .dataframe tbody tr th:only-of-type {\n",
       "        vertical-align: middle;\n",
       "    }\n",
       "\n",
       "    .dataframe tbody tr th {\n",
       "        vertical-align: top;\n",
       "    }\n",
       "\n",
       "    .dataframe thead th {\n",
       "        text-align: right;\n",
       "    }\n",
       "</style>\n",
       "<table border=\"1\" class=\"dataframe\">\n",
       "  <thead>\n",
       "    <tr style=\"text-align: right;\">\n",
       "      <th></th>\n",
       "      <th>book</th>\n",
       "      <th>chapter</th>\n",
       "      <th>text</th>\n",
       "      <th>authenticity</th>\n",
       "      <th>clean</th>\n",
       "      <th>clean_no_stops</th>\n",
       "    </tr>\n",
       "  </thead>\n",
       "  <tbody>\n",
       "    <tr>\n",
       "      <th>1</th>\n",
       "      <td>1</td>\n",
       "      <td>1</td>\n",
       "      <td>My name is Jake. That's my first name, obvious...</td>\n",
       "      <td>1</td>\n",
       "      <td>[name, thats, first, name, obviously, cant, te...</td>\n",
       "      <td>[my, name, is, jake, thats, my, first, name, o...</td>\n",
       "    </tr>\n",
       "    <tr>\n",
       "      <th>2</th>\n",
       "      <td>1</td>\n",
       "      <td>2</td>\n",
       "      <td>\"A flying saucer?\" Marco said. He did laugh. T...</td>\n",
       "      <td>1</td>\n",
       "      <td>[flying, saucer, laugh, looked, could, feel, h...</td>\n",
       "      <td>[a, flying, saucer, marco, said, he, did, laug...</td>\n",
       "    </tr>\n",
       "    <tr>\n",
       "      <th>3</th>\n",
       "      <td>1</td>\n",
       "      <td>3</td>\n",
       "      <td>&lt;They have come to destroy you.&gt;\\nIt was stran...</td>\n",
       "      <td>1</td>\n",
       "      <td>[come, destroy, strange, way, knew, telling, t...</td>\n",
       "      <td>[they, have, come, to, destroy, you, it, was, ...</td>\n",
       "    </tr>\n",
       "    <tr>\n",
       "      <th>4</th>\n",
       "      <td>1</td>\n",
       "      <td>4</td>\n",
       "      <td>&lt;Yeerks!&gt;\\nThe twin red lights slowed. They tu...</td>\n",
       "      <td>1</td>\n",
       "      <td>[yeerks, twin, red, lights, slowed, turned, ci...</td>\n",
       "      <td>[yeerks, the, twin, red, lights, slowed, they,...</td>\n",
       "    </tr>\n",
       "    <tr>\n",
       "      <th>5</th>\n",
       "      <td>1</td>\n",
       "      <td>5</td>\n",
       "      <td>The Hork-Bajir pointed his gun, or whatever it...</td>\n",
       "      <td>1</td>\n",
       "      <td>[hork, bajir, pointed, gun, whatever, around, ...</td>\n",
       "      <td>[the, hork, bajir, pointed, his, gun, or, what...</td>\n",
       "    </tr>\n",
       "  </tbody>\n",
       "</table>\n",
       "</div>"
      ],
      "text/plain": [
       "   book  chapter                                               text  \\\n",
       "1     1        1  My name is Jake. That's my first name, obvious...   \n",
       "2     1        2  \"A flying saucer?\" Marco said. He did laugh. T...   \n",
       "3     1        3  <They have come to destroy you.>\\nIt was stran...   \n",
       "4     1        4  <Yeerks!>\\nThe twin red lights slowed. They tu...   \n",
       "5     1        5  The Hork-Bajir pointed his gun, or whatever it...   \n",
       "\n",
       "   authenticity                                              clean  \\\n",
       "1             1  [name, thats, first, name, obviously, cant, te...   \n",
       "2             1  [flying, saucer, laugh, looked, could, feel, h...   \n",
       "3             1  [come, destroy, strange, way, knew, telling, t...   \n",
       "4             1  [yeerks, twin, red, lights, slowed, turned, ci...   \n",
       "5             1  [hork, bajir, pointed, gun, whatever, around, ...   \n",
       "\n",
       "                                      clean_no_stops  \n",
       "1  [my, name, is, jake, thats, my, first, name, o...  \n",
       "2  [a, flying, saucer, marco, said, he, did, laug...  \n",
       "3  [they, have, come, to, destroy, you, it, was, ...  \n",
       "4  [yeerks, the, twin, red, lights, slowed, they,...  \n",
       "5  [the, hork, bajir, pointed, his, gun, or, what...  "
      ]
     },
     "execution_count": 13,
     "metadata": {},
     "output_type": "execute_result"
    }
   ],
   "source": [
    "books_df['clean_no_stops'] = \\\n",
    "    books_df['text'].map(lambda t: clean_chapter(t,use_stops=False))\n",
    "books_df.head()"
   ]
  },
  {
   "cell_type": "markdown",
   "metadata": {},
   "source": [
    "Save DataFrame."
   ]
  },
  {
   "cell_type": "code",
   "execution_count": 14,
   "metadata": {},
   "outputs": [],
   "source": [
    "books_df.to_csv('../data/animorphs.csv')"
   ]
  },
  {
   "cell_type": "markdown",
   "metadata": {},
   "source": [
    "## Exploratory Data Analysis"
   ]
  },
  {
   "cell_type": "markdown",
   "metadata": {},
   "source": [
    "Establish entire corpus."
   ]
  },
  {
   "cell_type": "code",
   "execution_count": 15,
   "metadata": {},
   "outputs": [],
   "source": [
    "corpus = []\n",
    "for chapter in books_df['text']:\n",
    "    corpus += clean_chapter(chapter)"
   ]
  },
  {
   "cell_type": "markdown",
   "metadata": {},
   "source": [
    "### Frequent Words"
   ]
  },
  {
   "cell_type": "markdown",
   "metadata": {},
   "source": [
    "Look at frequently occurring words across the corpus."
   ]
  },
  {
   "cell_type": "code",
   "execution_count": 16,
   "metadata": {},
   "outputs": [],
   "source": [
    "def freq_words(word_list, n=10):\n",
    "    \"\"\"\n",
    "    A function to return the n most frequent entries in a list\n",
    "    in a dict with their frequencies.\n",
    "    \"\"\"\n",
    "    return {c[0]:c[1] for c in Counter(word_list).most_common(n)}\n",
    "\n",
    "def chapter_freq_words(chapter, n=10, need_clean=False):\n",
    "    \"\"\"\n",
    "    A function to optionally clean a chapter and then return the n\n",
    "    most frequent entries in the chapter in a dict with their frequencies.\n",
    "    \"\"\"\n",
    "    if need_clean:\n",
    "        chapter = clean_chapter(chapter)\n",
    "    return freq_words(chapter, n)\n",
    "\n",
    "def book_freq_words(book_no, col='clean', books_df=books_df, n=10):\n",
    "    \"\"\"\n",
    "    A function to concat cleaned chapters of a book into a list and\n",
    "    then return the n most frequent entries in the book in a dict\n",
    "    with their frequencies.\n",
    "    \"\"\"\n",
    "    book = []\n",
    "    for chapter in books_df.loc[books_df['book']==book_no, col]:\n",
    "        book += chapter\n",
    "    return freq_words(book, n)"
   ]
  },
  {
   "cell_type": "code",
   "execution_count": 17,
   "metadata": {},
   "outputs": [],
   "source": [
    "top_freqs = freq_words(corpus, n=20)"
   ]
  },
  {
   "cell_type": "code",
   "execution_count": 18,
   "metadata": {},
   "outputs": [],
   "source": [
    "def sort_plot_dict_barh(this_dict, title='', top_n=None):\n",
    "    \"\"\"\n",
    "    A function to sort a dictionary of int values and then plot a barh.\n",
    "    \"\"\"\n",
    "    if top_n is None:\n",
    "        top_n = len(this_dict)\n",
    "    \n",
    "    # sort dict\n",
    "    this_dict = {k:v for k,v in\n",
    "                 sorted(this_dict.items(),\n",
    "                        key=(lambda kv:kv[1]))[-top_n:]}\n",
    "    \n",
    "    plt.figure(figsize=(8,6))\n",
    "    plt.title(title)\n",
    "    # super elegant dict bar adapted from ImportanceOfBeingErnest at\n",
    "    # stackoverflow.com/questions/16010869\n",
    "    plt.barh(*zip(*this_dict.items()), color='#888888')"
   ]
  },
  {
   "cell_type": "code",
   "execution_count": 19,
   "metadata": {},
   "outputs": [
    {
     "data": {
      "image/png": "[encoded data removed]",
      "text/plain": [
       "<Figure size 576x432 with 1 Axes>"
      ]
     },
     "metadata": {
      "needs_background": "light"
     },
     "output_type": "display_data"
    }
   ],
   "source": [
    "sort_plot_dict_barh(top_freqs,\n",
    "                    'Top Word Frequencies in Animorphs Corpus')\n",
    "plt.savefig('../figures/a_corpus_top_words.png')"
   ]
  },
  {
   "cell_type": "markdown",
   "metadata": {},
   "source": [
    "What is the most common word in each book?"
   ]
  },
  {
   "cell_type": "code",
   "execution_count": 20,
   "metadata": {},
   "outputs": [],
   "source": [
    "most_common = {book_no:book_freq_words(book_no, n=1) \n",
    "               for book_no in range(1,55)}\n",
    "most_common_w = [list(v.keys())[0] for v in most_common.values()]\n",
    "most_common_counts = {w:most_common_w.count(w) for w in set(most_common_w)}"
   ]
  },
  {
   "cell_type": "code",
   "execution_count": 21,
   "metadata": {},
   "outputs": [
    {
     "data": {
      "image/png": "[encoded data removed]",
      "text/plain": [
       "<Figure size 576x432 with 1 Axes>"
      ]
     },
     "metadata": {
      "needs_background": "light"
     },
     "output_type": "display_data"
    }
   ],
   "source": [
    "sort_plot_dict_barh(most_common_counts,\n",
    "                    'Most Frequent Word in each Animorphs Book')\n",
    "plt.savefig('../figures/a_books_top_words.png')"
   ]
  },
  {
   "cell_type": "markdown",
   "metadata": {},
   "source": [
    "Is there a visible relationship between authenticity and most common word in book?"
   ]
  },
  {
   "cell_type": "code",
   "execution_count": 22,
   "metadata": {},
   "outputs": [
    {
     "data": {
      "text/html": [
       "<div>\n",
       "<style scoped>\n",
       "    .dataframe tbody tr th:only-of-type {\n",
       "        vertical-align: middle;\n",
       "    }\n",
       "\n",
       "    .dataframe tbody tr th {\n",
       "        vertical-align: top;\n",
       "    }\n",
       "\n",
       "    .dataframe thead th {\n",
       "        text-align: right;\n",
       "    }\n",
       "</style>\n",
       "<table border=\"1\" class=\"dataframe\">\n",
       "  <thead>\n",
       "    <tr style=\"text-align: right;\">\n",
       "      <th></th>\n",
       "      <th>book</th>\n",
       "      <th>authenticity</th>\n",
       "      <th>most_common_w</th>\n",
       "    </tr>\n",
       "  </thead>\n",
       "  <tbody>\n",
       "    <tr>\n",
       "      <th>0</th>\n",
       "      <td>1</td>\n",
       "      <td>1</td>\n",
       "      <td>could</td>\n",
       "    </tr>\n",
       "    <tr>\n",
       "      <th>1</th>\n",
       "      <td>2</td>\n",
       "      <td>1</td>\n",
       "      <td>visser</td>\n",
       "    </tr>\n",
       "    <tr>\n",
       "      <th>2</th>\n",
       "      <td>3</td>\n",
       "      <td>1</td>\n",
       "      <td>could</td>\n",
       "    </tr>\n",
       "    <tr>\n",
       "      <th>3</th>\n",
       "      <td>4</td>\n",
       "      <td>1</td>\n",
       "      <td>know</td>\n",
       "    </tr>\n",
       "    <tr>\n",
       "      <th>4</th>\n",
       "      <td>5</td>\n",
       "      <td>1</td>\n",
       "      <td>us</td>\n",
       "    </tr>\n",
       "  </tbody>\n",
       "</table>\n",
       "</div>"
      ],
      "text/plain": [
       "   book  authenticity most_common_w\n",
       "0     1             1         could\n",
       "1     2             1        visser\n",
       "2     3             1         could\n",
       "3     4             1          know\n",
       "4     5             1            us"
      ]
     },
     "execution_count": 22,
     "metadata": {},
     "output_type": "execute_result"
    }
   ],
   "source": [
    "most_common_df = pd.DataFrame({'book':range(1,55),\n",
    "                               'authenticity':list(books_df.groupby('book')[\n",
    "                                   'authenticity'].mean()),\n",
    "                               'most_common_w':most_common_w})\n",
    "most_common_df.head()"
   ]
  },
  {
   "cell_type": "code",
   "execution_count": 23,
   "metadata": {},
   "outputs": [
    {
     "data": {
      "image/png": "[encoded data removed]",
      "text/plain": [
       "<Figure size 576x432 with 1 Axes>"
      ]
     },
     "metadata": {
      "needs_background": "light"
     },
     "output_type": "display_data"
    }
   ],
   "source": [
    "sort_plot_dict_barh(most_common_df.loc[most_common_df['authenticity']==1,\n",
    "                                       'most_common_w'\n",
    "                                      ].value_counts().to_dict(),\n",
    "                   'Most Frequent Word in Applegate\\'s Animorphs Books')\n",
    "plt.savefig('../figures/a_authbooks_top_words.png')"
   ]
  },
  {
   "cell_type": "code",
   "execution_count": 24,
   "metadata": {},
   "outputs": [
    {
     "data": {
      "image/png": "[encoded data removed]",
      "text/plain": [
       "<Figure size 576x432 with 1 Axes>"
      ]
     },
     "metadata": {
      "needs_background": "light"
     },
     "output_type": "display_data"
    }
   ],
   "source": [
    "sort_plot_dict_barh(most_common_df.loc[most_common_df['authenticity']==0,\n",
    "                                       'most_common_w'\n",
    "                                      ].value_counts().to_dict(),\n",
    "                   'Most Frequent Word in Ghostwritten Animorphs Books')\n",
    "plt.savefig('../figures/a_inauthbooks_top_words.png')"
   ]
  },
  {
   "cell_type": "markdown",
   "metadata": {},
   "source": [
    "At this point we must consider words that are most common in one book only—some models may use these as highly important features, even if they are less related to author style and more related to individual books' subjects. Based on experience, we know that many books frequently name one or two animals that only come up rarely in the other books.\n",
    "\n",
    "We may ultimately want to include most of the stopwords we tried removing, depending on our modeling technique; they may be more indicative of style. "
   ]
  },
  {
   "cell_type": "markdown",
   "metadata": {},
   "source": [
    "Out of curiousity, what about the most common word by chapter?"
   ]
  },
  {
   "cell_type": "code",
   "execution_count": 25,
   "metadata": {},
   "outputs": [],
   "source": [
    "most_common = {i:chapter_freq_words(books_df.loc[i, 'clean'], n=1) \n",
    "               for i in books_df.index}\n",
    "most_common_w = [list(v.keys())[0] for v in most_common.values()]\n",
    "most_common_counts = {w:most_common_w.count(w) for w in set(most_common_w)}"
   ]
  },
  {
   "cell_type": "code",
   "execution_count": 26,
   "metadata": {},
   "outputs": [
    {
     "data": {
      "image/png": "[encoded data removed]",
      "text/plain": [
       "<Figure size 576x432 with 1 Axes>"
      ]
     },
     "metadata": {
      "needs_background": "light"
     },
     "output_type": "display_data"
    }
   ],
   "source": [
    "sort_plot_dict_barh(most_common_counts,\n",
    "                    'Most Frequent Word in each Animorphs Chapter',\n",
    "                    top_n = 20)\n",
    "plt.savefig('../figures/a_chap_top_words.png')"
   ]
  }
 ],
 "metadata": {
  "kernelspec": {
   "display_name": "Python 3",
   "language": "python",
   "name": "python3"
  },
  "language_info": {
   "codemirror_mode": {
    "name": "ipython",
    "version": 3
   },
   "file_extension": ".py",
   "mimetype": "text/x-python",
   "name": "python",
   "nbconvert_exporter": "python",
   "pygments_lexer": "ipython3",
   "version": "3.7.6"
  }
 },
 "nbformat": 4,
 "nbformat_minor": 2
}
