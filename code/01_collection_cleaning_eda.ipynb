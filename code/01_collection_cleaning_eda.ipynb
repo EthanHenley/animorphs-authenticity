{
 "cells": [
  {
   "cell_type": "code",
   "execution_count": 23,
   "metadata": {},
   "outputs": [],
   "source": [
    "import pandas as pd\n",
    "\n",
    "import ebooklib\n",
    "from ebooklib import epub\n",
    "\n",
    "from bs4 import BeautifulSoup"
   ]
  },
  {
   "cell_type": "markdown",
   "metadata": {},
   "source": [
    "Read out all the books' chapters into a two-layer dictionary."
   ]
  },
  {
   "cell_type": "code",
   "execution_count": 68,
   "metadata": {},
   "outputs": [],
   "source": [
    "books_dict = {}\n",
    "\n",
    "for book_no in range(1,55): # for each book in main series\n",
    "    \n",
    "    no_string = str(book_no).zfill(2) # format leading 0\n",
    "    book = epub.read_epub(f'books/{no_string}.epub') # read in book\n",
    "    \n",
    "    # get chapters and chapter-like things; index no.s may not correspond\n",
    "    # to actual chapter no.s\n",
    "    chapters = [c for c in book.get_items_of_type(ebooklib.ITEM_DOCUMENT)]\n",
    "\n",
    "    chapter_dict = {}\n",
    "    for chapter_no, chapter in enumerate(chapters): # for chapter in book\n",
    "        \n",
    "        # list of paragraphs as strings\n",
    "        paragraphs = [b.text for b in \n",
    "                      BeautifulSoup(chapter.content, 'xml'\n",
    "                                   ).find_all('p')][1:] # p0 always blank\n",
    "        \n",
    "        chapter_dict[chapter_no] = '\\n'.join(paragraphs) # list as lines\n",
    "        \n",
    "    books_dict[book_no] = chapter_dict"
   ]
  },
  {
   "cell_type": "markdown",
   "metadata": {},
   "source": [
    "Convert dictionary into df of chapters."
   ]
  },
  {
   "cell_type": "code",
   "execution_count": 96,
   "metadata": {},
   "outputs": [],
   "source": [
    "df_list = []\n",
    "\n",
    "for k,v in books_dict.items():\n",
    "    for vk,vv in v.items():\n",
    "        df = pd.DataFrame({'book':k,\n",
    "                           'chapter':vk,\n",
    "                           'text':vv}, index=[0])\n",
    "        df_list.append(df)\n",
    "\n",
    "books_df = pd.concat(df_list).reset_index().drop(columns='index')\n",
    "books_df = books_df[books_df['text'] != '']"
   ]
  },
  {
   "cell_type": "code",
   "execution_count": 98,
   "metadata": {},
   "outputs": [
    {
     "data": {
      "text/html": [
       "<div>\n",
       "<style scoped>\n",
       "    .dataframe tbody tr th:only-of-type {\n",
       "        vertical-align: middle;\n",
       "    }\n",
       "\n",
       "    .dataframe tbody tr th {\n",
       "        vertical-align: top;\n",
       "    }\n",
       "\n",
       "    .dataframe thead th {\n",
       "        text-align: right;\n",
       "    }\n",
       "</style>\n",
       "<table border=\"1\" class=\"dataframe\">\n",
       "  <thead>\n",
       "    <tr style=\"text-align: right;\">\n",
       "      <th></th>\n",
       "      <th>book</th>\n",
       "      <th>chapter</th>\n",
       "      <th>text</th>\n",
       "    </tr>\n",
       "  </thead>\n",
       "  <tbody>\n",
       "    <tr>\n",
       "      <td>1</td>\n",
       "      <td>1</td>\n",
       "      <td>1</td>\n",
       "      <td>My name is Jake. That's my first name, obvious...</td>\n",
       "    </tr>\n",
       "    <tr>\n",
       "      <td>2</td>\n",
       "      <td>1</td>\n",
       "      <td>2</td>\n",
       "      <td>\"A flying saucer?\" Marco said. He did laugh. T...</td>\n",
       "    </tr>\n",
       "    <tr>\n",
       "      <td>3</td>\n",
       "      <td>1</td>\n",
       "      <td>3</td>\n",
       "      <td>&lt;They have come to destroy you.&gt;\\nIt was stran...</td>\n",
       "    </tr>\n",
       "    <tr>\n",
       "      <td>4</td>\n",
       "      <td>1</td>\n",
       "      <td>4</td>\n",
       "      <td>&lt;Yeerks!&gt;\\nThe twin red lights slowed. They tu...</td>\n",
       "    </tr>\n",
       "    <tr>\n",
       "      <td>5</td>\n",
       "      <td>1</td>\n",
       "      <td>5</td>\n",
       "      <td>The Hork-Bajir pointed his gun, or whatever it...</td>\n",
       "    </tr>\n",
       "    <tr>\n",
       "      <td>...</td>\n",
       "      <td>...</td>\n",
       "      <td>...</td>\n",
       "      <td>...</td>\n",
       "    </tr>\n",
       "    <tr>\n",
       "      <td>1520</td>\n",
       "      <td>54</td>\n",
       "      <td>18</td>\n",
       "      <td>The world's smartest mouse wiggled his nose at...</td>\n",
       "    </tr>\n",
       "    <tr>\n",
       "      <td>1521</td>\n",
       "      <td>54</td>\n",
       "      <td>19</td>\n",
       "      <td>I had nine million four hundred and thirty-two...</td>\n",
       "    </tr>\n",
       "    <tr>\n",
       "      <td>1522</td>\n",
       "      <td>54</td>\n",
       "      <td>20</td>\n",
       "      <td>We drove through the desert night, silent most...</td>\n",
       "    </tr>\n",
       "    <tr>\n",
       "      <td>1523</td>\n",
       "      <td>54</td>\n",
       "      <td>21</td>\n",
       "      <td>The Rachel was fast.\\nWe blew through normal s...</td>\n",
       "    </tr>\n",
       "    <tr>\n",
       "      <td>1525</td>\n",
       "      <td>54</td>\n",
       "      <td>23</td>\n",
       "      <td>I know, I know, it's rotten of me to leave you...</td>\n",
       "    </tr>\n",
       "  </tbody>\n",
       "</table>\n",
       "<p>1418 rows × 3 columns</p>\n",
       "</div>"
      ],
      "text/plain": [
       "      book  chapter                                               text\n",
       "1        1        1  My name is Jake. That's my first name, obvious...\n",
       "2        1        2  \"A flying saucer?\" Marco said. He did laugh. T...\n",
       "3        1        3  <They have come to destroy you.>\\nIt was stran...\n",
       "4        1        4  <Yeerks!>\\nThe twin red lights slowed. They tu...\n",
       "5        1        5  The Hork-Bajir pointed his gun, or whatever it...\n",
       "...    ...      ...                                                ...\n",
       "1520    54       18  The world's smartest mouse wiggled his nose at...\n",
       "1521    54       19  I had nine million four hundred and thirty-two...\n",
       "1522    54       20  We drove through the desert night, silent most...\n",
       "1523    54       21  The Rachel was fast.\\nWe blew through normal s...\n",
       "1525    54       23  I know, I know, it's rotten of me to leave you...\n",
       "\n",
       "[1418 rows x 3 columns]"
      ]
     },
     "execution_count": 98,
     "metadata": {},
     "output_type": "execute_result"
    }
   ],
   "source": [
    "books_df"
   ]
  },
  {
   "cell_type": "markdown",
   "metadata": {},
   "source": [
    "Add authenticity columns; 1 denotes a book written by Applegate, 0 denotes a book ghostwritten."
   ]
  },
  {
   "cell_type": "code",
   "execution_count": 102,
   "metadata": {},
   "outputs": [],
   "source": [
    "auths = [i for i in range(1,25)] + [26, 32, 53, 54]\n",
    "books_df['authenticity'] = books_df['book'].map(lambda b: int(b in auths))\n",
    "\n",
    "books_df.head()"
   ]
  },
  {
   "cell_type": "markdown",
   "metadata": {},
   "source": [
    "Save df to csv."
   ]
  },
  {
   "cell_type": "code",
   "execution_count": 105,
   "metadata": {},
   "outputs": [],
   "source": [
    "books_df.to_csv('../data/animorphs.csv')"
   ]
  }
 ],
 "metadata": {
  "kernelspec": {
   "display_name": "Python 3",
   "language": "python",
   "name": "python3"
  },
  "language_info": {
   "codemirror_mode": {
    "name": "ipython",
    "version": 3
   },
   "file_extension": ".py",
   "mimetype": "text/x-python",
   "name": "python",
   "nbconvert_exporter": "python",
   "pygments_lexer": "ipython3",
   "version": "3.7.4"
  }
 },
 "nbformat": 4,
 "nbformat_minor": 2
}
