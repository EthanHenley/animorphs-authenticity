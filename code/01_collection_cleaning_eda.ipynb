{
 "cells": [
  {
   "cell_type": "markdown",
   "metadata": {},
   "source": [
    "# Animorphs Authenticity, Notebook 01\n",
    "#### Ethan Henley"
   ]
  },
  {
   "cell_type": "markdown",
   "metadata": {},
   "source": [
    "## Problem Statement:\n",
    "\n",
    "When authorship is uncertain, specific word choices and text patterns can be used to determine whether or not a text was written by a certain author. I wish to develop a model for reading in two large corpuses, one authentically written by an author and one ghostwritten, and predicting which corpus a text belongs to. \n",
    "\n",
    "One recent [paper](https://arxiv.org/abs/1911.05652) by Petr Plecháč analyzed the authorship of specific subsections of the play Henry VIII to determine where either of the authors suspected of involvement contributed. Its methodology is not directly applicable to non-poetic texts, as it greatly involves cadence and meter in its modeling process. I wish to perform similar analysis on another, non-metered corpus to generalize author authenticity analysis.\n",
    "\n",
    "For this analysis, I will use the Animorphs series, 54 children's science-fiction/fantasy books of which about half were ghostwritten, as my corpus. The model will be specific to this collection of books, but the strategies implemented should be relevant for other authorship analyses.\n",
    "\n",
    "I will vectorize words in individual chapters of Animorphs books using Word2Vec against the corpus as a whole, and then take each chapter's average vector, reduce its dimensionality using t-distributed Stochastic Neighbor Embedding, and then use a Simple Vector Machine classifier to delineate author authenticity. The classifier will be scored on accuracy, as either type of misattribution is undesirable."
   ]
  },
  {
   "cell_type": "markdown",
   "metadata": {},
   "source": [
    "## Collection & EDA Process:\n",
    "\n",
    "The corpus was gathered from [Richard's Animorphs Forum](https://animorphsforum.com/ebooks/), where the Animorphs series of books is hosted for free access with the blessing of the creator. I use the main series only. Authenicity was taken from [this Wikipedia section](https://en.wikipedia.org/wiki/Animorphs#Ghostwriters). Books were read chapter by chapter using `ebooklib` and `BeautifulSoup`. Chapters were processed, proper nouns and stopwords were removed, and then words were tokenized to develop a corpus. A first quick look showed what words were most common across the corpus."
   ]
  },
  {
   "cell_type": "code",
   "execution_count": 17,
   "metadata": {},
   "outputs": [],
   "source": [
    "import pandas as pd\n",
    "\n",
    "import re\n",
    "from nltk.corpus import stopwords\n",
    "\n",
    "import ebooklib\n",
    "from ebooklib import epub\n",
    "\n",
    "from bs4 import BeautifulSoup\n",
    "\n",
    "import matplotlib.pyplot as plt"
   ]
  },
  {
   "cell_type": "markdown",
   "metadata": {},
   "source": [
    "## Data Collection & Initial Cleaning"
   ]
  },
  {
   "cell_type": "markdown",
   "metadata": {},
   "source": [
    "Read out all the books' chapters into a two-layer dictionary. \n",
    "\n",
    "Books were downloaded as `.epub` files from [Richard's Animorphs Forum](https://animorphsforum.com/ebooks/)."
   ]
  },
  {
   "cell_type": "code",
   "execution_count": 2,
   "metadata": {},
   "outputs": [],
   "source": [
    "books_dict = {}\n",
    "\n",
    "for book_no in range(1,55): # for each book in main series\n",
    "    \n",
    "    no_string = str(book_no).zfill(2) # format leading 0\n",
    "    book = epub.read_epub(f'../books/{no_string}.epub') # read in book\n",
    "    \n",
    "    # get chapters and chapter-like things; index no.s may not correspond\n",
    "    # to actual chapter no.s\n",
    "    chapters = [c for c in book.get_items_of_type(ebooklib.ITEM_DOCUMENT)]\n",
    "\n",
    "    chapter_dict = {}\n",
    "    for chapter_no, chapter in enumerate(chapters): # for chapter in book\n",
    "        \n",
    "        # list of paragraphs as strings\n",
    "        paragraphs = [b.text for b in \n",
    "                      BeautifulSoup(chapter.content, 'xml'\n",
    "                                   ).find_all('p')][1:] # p0 always blank\n",
    "        \n",
    "        chapter_dict[chapter_no] = '\\n'.join(paragraphs) # list as lines\n",
    "        \n",
    "    books_dict[book_no] = chapter_dict"
   ]
  },
  {
   "cell_type": "markdown",
   "metadata": {},
   "source": [
    "Convert dictionary into df of chapters."
   ]
  },
  {
   "cell_type": "code",
   "execution_count": 3,
   "metadata": {},
   "outputs": [],
   "source": [
    "df_list = []\n",
    "\n",
    "for k,v in books_dict.items():\n",
    "    for vk,vv in v.items():\n",
    "        df = pd.DataFrame({'book':k,\n",
    "                           'chapter':vk,\n",
    "                           'text':vv}, index=[0])\n",
    "        df_list.append(df)\n",
    "\n",
    "books_df = pd.concat(df_list).reset_index().drop(columns='index') # combine\n",
    "books_df = books_df[books_df['text'] != ''] # clean 'empty' chapters"
   ]
  },
  {
   "cell_type": "code",
   "execution_count": 4,
   "metadata": {},
   "outputs": [
    {
     "data": {
      "text/html": [
       "<div>\n",
       "<style scoped>\n",
       "    .dataframe tbody tr th:only-of-type {\n",
       "        vertical-align: middle;\n",
       "    }\n",
       "\n",
       "    .dataframe tbody tr th {\n",
       "        vertical-align: top;\n",
       "    }\n",
       "\n",
       "    .dataframe thead th {\n",
       "        text-align: right;\n",
       "    }\n",
       "</style>\n",
       "<table border=\"1\" class=\"dataframe\">\n",
       "  <thead>\n",
       "    <tr style=\"text-align: right;\">\n",
       "      <th></th>\n",
       "      <th>book</th>\n",
       "      <th>chapter</th>\n",
       "      <th>text</th>\n",
       "    </tr>\n",
       "  </thead>\n",
       "  <tbody>\n",
       "    <tr>\n",
       "      <td>1</td>\n",
       "      <td>1</td>\n",
       "      <td>1</td>\n",
       "      <td>My name is Jake. That's my first name, obvious...</td>\n",
       "    </tr>\n",
       "    <tr>\n",
       "      <td>2</td>\n",
       "      <td>1</td>\n",
       "      <td>2</td>\n",
       "      <td>\"A flying saucer?\" Marco said. He did laugh. T...</td>\n",
       "    </tr>\n",
       "    <tr>\n",
       "      <td>3</td>\n",
       "      <td>1</td>\n",
       "      <td>3</td>\n",
       "      <td>&lt;They have come to destroy you.&gt;\\nIt was stran...</td>\n",
       "    </tr>\n",
       "    <tr>\n",
       "      <td>4</td>\n",
       "      <td>1</td>\n",
       "      <td>4</td>\n",
       "      <td>&lt;Yeerks!&gt;\\nThe twin red lights slowed. They tu...</td>\n",
       "    </tr>\n",
       "    <tr>\n",
       "      <td>5</td>\n",
       "      <td>1</td>\n",
       "      <td>5</td>\n",
       "      <td>The Hork-Bajir pointed his gun, or whatever it...</td>\n",
       "    </tr>\n",
       "    <tr>\n",
       "      <td>...</td>\n",
       "      <td>...</td>\n",
       "      <td>...</td>\n",
       "      <td>...</td>\n",
       "    </tr>\n",
       "    <tr>\n",
       "      <td>1520</td>\n",
       "      <td>54</td>\n",
       "      <td>18</td>\n",
       "      <td>The world's smartest mouse wiggled his nose at...</td>\n",
       "    </tr>\n",
       "    <tr>\n",
       "      <td>1521</td>\n",
       "      <td>54</td>\n",
       "      <td>19</td>\n",
       "      <td>I had nine million four hundred and thirty-two...</td>\n",
       "    </tr>\n",
       "    <tr>\n",
       "      <td>1522</td>\n",
       "      <td>54</td>\n",
       "      <td>20</td>\n",
       "      <td>We drove through the desert night, silent most...</td>\n",
       "    </tr>\n",
       "    <tr>\n",
       "      <td>1523</td>\n",
       "      <td>54</td>\n",
       "      <td>21</td>\n",
       "      <td>The Rachel was fast.\\nWe blew through normal s...</td>\n",
       "    </tr>\n",
       "    <tr>\n",
       "      <td>1525</td>\n",
       "      <td>54</td>\n",
       "      <td>23</td>\n",
       "      <td>I know, I know, it's rotten of me to leave you...</td>\n",
       "    </tr>\n",
       "  </tbody>\n",
       "</table>\n",
       "<p>1418 rows × 3 columns</p>\n",
       "</div>"
      ],
      "text/plain": [
       "      book  chapter                                               text\n",
       "1        1        1  My name is Jake. That's my first name, obvious...\n",
       "2        1        2  \"A flying saucer?\" Marco said. He did laugh. T...\n",
       "3        1        3  <They have come to destroy you.>\\nIt was stran...\n",
       "4        1        4  <Yeerks!>\\nThe twin red lights slowed. They tu...\n",
       "5        1        5  The Hork-Bajir pointed his gun, or whatever it...\n",
       "...    ...      ...                                                ...\n",
       "1520    54       18  The world's smartest mouse wiggled his nose at...\n",
       "1521    54       19  I had nine million four hundred and thirty-two...\n",
       "1522    54       20  We drove through the desert night, silent most...\n",
       "1523    54       21  The Rachel was fast.\\nWe blew through normal s...\n",
       "1525    54       23  I know, I know, it's rotten of me to leave you...\n",
       "\n",
       "[1418 rows x 3 columns]"
      ]
     },
     "execution_count": 4,
     "metadata": {},
     "output_type": "execute_result"
    }
   ],
   "source": [
    "books_df"
   ]
  },
  {
   "cell_type": "markdown",
   "metadata": {},
   "source": [
    "Add authenticity columns; 1 denotes a book written by Applegate, 0 denotes a book ghostwritten."
   ]
  },
  {
   "cell_type": "code",
   "execution_count": 5,
   "metadata": {},
   "outputs": [
    {
     "data": {
      "text/html": [
       "<div>\n",
       "<style scoped>\n",
       "    .dataframe tbody tr th:only-of-type {\n",
       "        vertical-align: middle;\n",
       "    }\n",
       "\n",
       "    .dataframe tbody tr th {\n",
       "        vertical-align: top;\n",
       "    }\n",
       "\n",
       "    .dataframe thead th {\n",
       "        text-align: right;\n",
       "    }\n",
       "</style>\n",
       "<table border=\"1\" class=\"dataframe\">\n",
       "  <thead>\n",
       "    <tr style=\"text-align: right;\">\n",
       "      <th></th>\n",
       "      <th>book</th>\n",
       "      <th>chapter</th>\n",
       "      <th>text</th>\n",
       "      <th>authenticity</th>\n",
       "    </tr>\n",
       "  </thead>\n",
       "  <tbody>\n",
       "    <tr>\n",
       "      <td>1</td>\n",
       "      <td>1</td>\n",
       "      <td>1</td>\n",
       "      <td>My name is Jake. That's my first name, obvious...</td>\n",
       "      <td>1</td>\n",
       "    </tr>\n",
       "    <tr>\n",
       "      <td>2</td>\n",
       "      <td>1</td>\n",
       "      <td>2</td>\n",
       "      <td>\"A flying saucer?\" Marco said. He did laugh. T...</td>\n",
       "      <td>1</td>\n",
       "    </tr>\n",
       "    <tr>\n",
       "      <td>3</td>\n",
       "      <td>1</td>\n",
       "      <td>3</td>\n",
       "      <td>&lt;They have come to destroy you.&gt;\\nIt was stran...</td>\n",
       "      <td>1</td>\n",
       "    </tr>\n",
       "    <tr>\n",
       "      <td>4</td>\n",
       "      <td>1</td>\n",
       "      <td>4</td>\n",
       "      <td>&lt;Yeerks!&gt;\\nThe twin red lights slowed. They tu...</td>\n",
       "      <td>1</td>\n",
       "    </tr>\n",
       "    <tr>\n",
       "      <td>5</td>\n",
       "      <td>1</td>\n",
       "      <td>5</td>\n",
       "      <td>The Hork-Bajir pointed his gun, or whatever it...</td>\n",
       "      <td>1</td>\n",
       "    </tr>\n",
       "  </tbody>\n",
       "</table>\n",
       "</div>"
      ],
      "text/plain": [
       "   book  chapter                                               text  \\\n",
       "1     1        1  My name is Jake. That's my first name, obvious...   \n",
       "2     1        2  \"A flying saucer?\" Marco said. He did laugh. T...   \n",
       "3     1        3  <They have come to destroy you.>\\nIt was stran...   \n",
       "4     1        4  <Yeerks!>\\nThe twin red lights slowed. They tu...   \n",
       "5     1        5  The Hork-Bajir pointed his gun, or whatever it...   \n",
       "\n",
       "   authenticity  \n",
       "1             1  \n",
       "2             1  \n",
       "3             1  \n",
       "4             1  \n",
       "5             1  "
      ]
     },
     "execution_count": 5,
     "metadata": {},
     "output_type": "execute_result"
    }
   ],
   "source": [
    "auths = [i for i in range(1,25)] + [26, 32, 53, 54]\n",
    "books_df['authenticity'] = books_df['book'].map(lambda b: int(b in auths))\n",
    "\n",
    "books_df.head()"
   ]
  },
  {
   "cell_type": "markdown",
   "metadata": {},
   "source": [
    "Save df to csv."
   ]
  },
  {
   "cell_type": "code",
   "execution_count": 6,
   "metadata": {},
   "outputs": [],
   "source": [
    "books_df.to_csv('../data/animorphs.csv')"
   ]
  },
  {
   "cell_type": "markdown",
   "metadata": {},
   "source": [
    "## EDA & Continued Cleaning"
   ]
  },
  {
   "cell_type": "markdown",
   "metadata": {},
   "source": [
    "For Word2Vec analysis, will need to aggressively remove stopwords, including common proper nouns that may show up different amounts throughout the books. We will also need to remove all non-word elements, such as punctuation."
   ]
  },
  {
   "cell_type": "markdown",
   "metadata": {},
   "source": [
    "We remove proper nouns primarily to avoid 'cheating'; characters appear more often in some books than others, and this may inappropriately 'help' the model isolate individual books without using information related to authorship."
   ]
  },
  {
   "cell_type": "code",
   "execution_count": 7,
   "metadata": {},
   "outputs": [],
   "source": [
    "# frequent character names and other proper nouns\n",
    "# manually collected from animorphs.fandom.com\n",
    "pnouns = ['jake','rachel','marco','james','craig','erica','tobias',\n",
    "          'cassie','aximili','esgarrouth','isthill',\n",
    "          'aximiliesgarrouthisthill','david','melissa','chapman',\n",
    "          'collette','kelly','timmy','julio','liam','tricia','jessie',\n",
    "          'judy','ray', 'ax','hork','bajir','visser','andalite',\n",
    "          'yeerk','yeerks']"
   ]
  },
  {
   "cell_type": "code",
   "execution_count": 8,
   "metadata": {},
   "outputs": [],
   "source": [
    "# set up stopwords, including proper nouns\n",
    "\n",
    "stops = stopwords.words('english') + pnouns\n",
    "\n",
    "# clean stops to same format as other text\n",
    "\n",
    "stops = re.sub(r'[^a-zA-Z ]','',' '.join(stops)).lower().split()"
   ]
  },
  {
   "cell_type": "code",
   "execution_count": 9,
   "metadata": {},
   "outputs": [],
   "source": [
    "def clean_chapter(chapter, stops=stops):\n",
    "    # regex non-letters, lowercase, tokenize\n",
    "    chapter = chapter.replace('-',' ')\n",
    "    chapter = re.sub(r'[^a-zA-Z ]','',chapter).lower().split()\n",
    "    chapter = [w for w in chapter if w not in stops] # remove stopwords\n",
    "    return chapter"
   ]
  },
  {
   "cell_type": "markdown",
   "metadata": {},
   "source": [
    "Check that the cleaning makes sense."
   ]
  },
  {
   "cell_type": "code",
   "execution_count": 10,
   "metadata": {},
   "outputs": [
    {
     "data": {
      "text/plain": [
       "\"My name is Jake. That's my first name, obviously. I can't tell you my last name. It would be too dangerous. The Controllers are everywhere. Everywhere. And if they knew my full name, they could find\""
      ]
     },
     "execution_count": 10,
     "metadata": {},
     "output_type": "execute_result"
    }
   ],
   "source": [
    "# test-visualize the start of a single chapter\n",
    "books_df.loc[1,'text'][:198]"
   ]
  },
  {
   "cell_type": "code",
   "execution_count": 11,
   "metadata": {},
   "outputs": [
    {
     "data": {
      "text/plain": [
       "['name',\n",
       " 'thats',\n",
       " 'first',\n",
       " 'name',\n",
       " 'obviously',\n",
       " 'cant',\n",
       " 'tell',\n",
       " 'last',\n",
       " 'name',\n",
       " 'would',\n",
       " 'dangerous',\n",
       " 'controllers',\n",
       " 'everywhere',\n",
       " 'everywhere',\n",
       " 'knew',\n",
       " 'full',\n",
       " 'name',\n",
       " 'could',\n",
       " 'find']"
      ]
     },
     "execution_count": 11,
     "metadata": {},
     "output_type": "execute_result"
    }
   ],
   "source": [
    "# test-visualize the same text, preprocessed\n",
    "clean_chapter(books_df.loc[1,'text'][:198])"
   ]
  },
  {
   "cell_type": "markdown",
   "metadata": {},
   "source": [
    "Cleaned text makes sense."
   ]
  },
  {
   "cell_type": "markdown",
   "metadata": {},
   "source": [
    "Establish entire corpus."
   ]
  },
  {
   "cell_type": "code",
   "execution_count": 12,
   "metadata": {},
   "outputs": [],
   "source": [
    "corpus = []\n",
    "for chapter in books_df['text']:\n",
    "    corpus += clean_chapter(chapter)"
   ]
  },
  {
   "cell_type": "markdown",
   "metadata": {},
   "source": [
    "Look at frequently occurring words."
   ]
  },
  {
   "cell_type": "code",
   "execution_count": 15,
   "metadata": {},
   "outputs": [],
   "source": [
    "top_freqs={w:corpus.count(w) for w in set(corpus) if corpus.count(w)>2000}"
   ]
  },
  {
   "cell_type": "code",
   "execution_count": 19,
   "metadata": {},
   "outputs": [
    {
     "data": {
      "image/png": "[encoded data removed]",
      "text/plain": [
       "<Figure size 576x432 with 1 Axes>"
      ]
     },
     "metadata": {
      "needs_background": "light"
     },
     "output_type": "display_data"
    }
   ],
   "source": [
    "top_freqs = {k:v for k,v in \n",
    "             sorted(top_freqs.items(), key=(lambda kv:kv[1]))} # sort dict\n",
    "\n",
    "plt.figure(figsize=(8,6))\n",
    "\n",
    "# super elegant dict bar adapted from ImportanceOfBeingErnest at\n",
    "# stackoverflow.com/questions/16010869\n",
    "plt.barh(*zip(*top_freqs.items()))\n",
    "\n",
    "plt.title('Top Word Frequencies in Animorphs Corpus');"
   ]
  }
 ],
 "metadata": {
  "kernelspec": {
   "display_name": "Python 3",
   "language": "python",
   "name": "python3"
  },
  "language_info": {
   "codemirror_mode": {
    "name": "ipython",
    "version": 3
   },
   "file_extension": ".py",
   "mimetype": "text/x-python",
   "name": "python",
   "nbconvert_exporter": "python",
   "pygments_lexer": "ipython3",
   "version": "3.7.4"
  }
 },
 "nbformat": 4,
 "nbformat_minor": 2
}
