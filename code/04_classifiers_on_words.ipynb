{
 "cells": [
  {
   "cell_type": "markdown",
   "metadata": {},
   "source": [
    "# Animorphs Authorship Authenticity Analysis\n",
    "\n",
    "### Ethan Henley\n",
    "\n",
    "### Notebook 04: Naive Bayes and SVM on Wordcounts"
   ]
  },
  {
   "cell_type": "markdown",
   "metadata": {},
   "source": [
    "## Alternate Supervised Learning Modeling Process\n",
    "\n",
    "Because W2V-SVM transfer learning proved insufficient, we ran Naive Bayes and Support Vector Machine classifiers on CountVectorized Animorphs books instead, and found that the wordcount-based SVM was the most accurate predictor on both the corpus as a whole and on individual books. We used the same strategy of leave-one-out validation as before. \n",
    "\n",
    "We concluded that, though the Word2Vec-based transfer learning models were not useful for this type of authorship analysis, the count-based SVM was a sufficiently accurate stylometric model."
   ]
  },
  {
   "cell_type": "markdown",
   "metadata": {},
   "source": [
    "## Contents\n",
    "- [Loading](#Loading)\n",
    "- [Modeling](#Modeling)\n",
    "- [Model Evaluation](#Model-Evaluation)\n",
    "- [Conclusion](#Conclusion)"
   ]
  },
  {
   "cell_type": "markdown",
   "metadata": {},
   "source": [
    "## Loading"
   ]
  },
  {
   "cell_type": "markdown",
   "metadata": {},
   "source": [
    "Imports."
   ]
  },
  {
   "cell_type": "code",
   "execution_count": 1,
   "metadata": {},
   "outputs": [],
   "source": [
    "import numpy as np\n",
    "\n",
    "import pandas as pd\n",
    "\n",
    "from ast import literal_eval\n",
    "\n",
    "from sklearn.feature_extraction.text import CountVectorizer, \\\n",
    "    TfidfVectorizer\n",
    "from sklearn.naive_bayes import MultinomialNB, GaussianNB\n",
    "from sklearn.svm import SVC\n",
    "\n",
    "import matplotlib.pyplot as plt\n",
    "\n",
    "# a small module of functions i wrote for this project:\n",
    "from small_lib import col_acc, inacc_set, do_gs"
   ]
  },
  {
   "cell_type": "markdown",
   "metadata": {},
   "source": [
    "Load `chaps_df` and undo array-to-list."
   ]
  },
  {
   "cell_type": "code",
   "execution_count": 2,
   "metadata": {},
   "outputs": [
    {
     "data": {
      "text/html": [
       "<div>\n",
       "<style scoped>\n",
       "    .dataframe tbody tr th:only-of-type {\n",
       "        vertical-align: middle;\n",
       "    }\n",
       "\n",
       "    .dataframe tbody tr th {\n",
       "        vertical-align: top;\n",
       "    }\n",
       "\n",
       "    .dataframe thead th {\n",
       "        text-align: right;\n",
       "    }\n",
       "</style>\n",
       "<table border=\"1\" class=\"dataframe\">\n",
       "  <thead>\n",
       "    <tr style=\"text-align: right;\">\n",
       "      <th></th>\n",
       "      <th>book</th>\n",
       "      <th>chapter</th>\n",
       "      <th>text</th>\n",
       "      <th>authenticity</th>\n",
       "      <th>clean</th>\n",
       "      <th>clean_no_stops</th>\n",
       "      <th>vec_clean</th>\n",
       "    </tr>\n",
       "  </thead>\n",
       "  <tbody>\n",
       "    <tr>\n",
       "      <th>0</th>\n",
       "      <td>1</td>\n",
       "      <td>1</td>\n",
       "      <td>My name is Jake. That's my first name, obvious...</td>\n",
       "      <td>1</td>\n",
       "      <td>[name, thats, first, name, obviously, cant, te...</td>\n",
       "      <td>[my, name, is, jake, thats, my, first, name, o...</td>\n",
       "      <td>[0.050813198, 0.21546867, -0.11217794, 0.05301...</td>\n",
       "    </tr>\n",
       "    <tr>\n",
       "      <th>1</th>\n",
       "      <td>1</td>\n",
       "      <td>2</td>\n",
       "      <td>\"A flying saucer?\" Marco said. He did laugh. T...</td>\n",
       "      <td>1</td>\n",
       "      <td>[flying, saucer, qstinpunc, laugh, looked, cou...</td>\n",
       "      <td>[a, flying, saucer, qstinpunc, marco, said, he...</td>\n",
       "      <td>[0.0059409393, 0.23846294, -0.09167185, 0.0067...</td>\n",
       "    </tr>\n",
       "    <tr>\n",
       "      <th>2</th>\n",
       "      <td>1</td>\n",
       "      <td>3</td>\n",
       "      <td>&lt;They have come to destroy you.&gt;\\nIt was stran...</td>\n",
       "      <td>1</td>\n",
       "      <td>[anglepunc, come, destroy, anglepunc, strange,...</td>\n",
       "      <td>[anglepunc, they, have, come, to, destroy, you...</td>\n",
       "      <td>[0.00516426, 0.25513598, -0.040639274, -0.0519...</td>\n",
       "    </tr>\n",
       "    <tr>\n",
       "      <th>3</th>\n",
       "      <td>1</td>\n",
       "      <td>4</td>\n",
       "      <td>&lt;Yeerks!&gt;\\nThe twin red lights slowed. They tu...</td>\n",
       "      <td>1</td>\n",
       "      <td>[anglepunc, yeerks, exclmpunc, anglepunc, twin...</td>\n",
       "      <td>[anglepunc, yeerks, exclmpunc, anglepunc, the,...</td>\n",
       "      <td>[-0.027513022, 0.24088845, 0.00715725, -0.0299...</td>\n",
       "    </tr>\n",
       "    <tr>\n",
       "      <th>4</th>\n",
       "      <td>1</td>\n",
       "      <td>5</td>\n",
       "      <td>The Hork-Bajir pointed his gun, or whatever it...</td>\n",
       "      <td>1</td>\n",
       "      <td>[hork, odashpunc, bajir, pointed, gun, whateve...</td>\n",
       "      <td>[the, hork, odashpunc, bajir, pointed, his, gu...</td>\n",
       "      <td>[-0.037028935, 0.29484826, 0.030976577, -0.076...</td>\n",
       "    </tr>\n",
       "  </tbody>\n",
       "</table>\n",
       "</div>"
      ],
      "text/plain": [
       "   book  chapter                                               text  \\\n",
       "0     1        1  My name is Jake. That's my first name, obvious...   \n",
       "1     1        2  \"A flying saucer?\" Marco said. He did laugh. T...   \n",
       "2     1        3  <They have come to destroy you.>\\nIt was stran...   \n",
       "3     1        4  <Yeerks!>\\nThe twin red lights slowed. They tu...   \n",
       "4     1        5  The Hork-Bajir pointed his gun, or whatever it...   \n",
       "\n",
       "   authenticity                                              clean  \\\n",
       "0             1  [name, thats, first, name, obviously, cant, te...   \n",
       "1             1  [flying, saucer, qstinpunc, laugh, looked, cou...   \n",
       "2             1  [anglepunc, come, destroy, anglepunc, strange,...   \n",
       "3             1  [anglepunc, yeerks, exclmpunc, anglepunc, twin...   \n",
       "4             1  [hork, odashpunc, bajir, pointed, gun, whateve...   \n",
       "\n",
       "                                      clean_no_stops  \\\n",
       "0  [my, name, is, jake, thats, my, first, name, o...   \n",
       "1  [a, flying, saucer, qstinpunc, marco, said, he...   \n",
       "2  [anglepunc, they, have, come, to, destroy, you...   \n",
       "3  [anglepunc, yeerks, exclmpunc, anglepunc, the,...   \n",
       "4  [the, hork, odashpunc, bajir, pointed, his, gu...   \n",
       "\n",
       "                                           vec_clean  \n",
       "0  [0.050813198, 0.21546867, -0.11217794, 0.05301...  \n",
       "1  [0.0059409393, 0.23846294, -0.09167185, 0.0067...  \n",
       "2  [0.00516426, 0.25513598, -0.040639274, -0.0519...  \n",
       "3  [-0.027513022, 0.24088845, 0.00715725, -0.0299...  \n",
       "4  [-0.037028935, 0.29484826, 0.030976577, -0.076...  "
      ]
     },
     "execution_count": 2,
     "metadata": {},
     "output_type": "execute_result"
    }
   ],
   "source": [
    "chaps_df = pd.read_csv('../data/animorphs_chaps.csv')\n",
    "\n",
    "for col in ['clean','clean_no_stops', 'vec_clean']:\n",
    "    chaps_df[col] = chaps_df[col].map(literal_eval) # as lists\n",
    "    \n",
    "for col in ['vec_clean']:\n",
    "    chaps_df[col] = chaps_df[col].map(np.array) # as array\n",
    "    \n",
    "chaps_df.head()"
   ]
  },
  {
   "cell_type": "markdown",
   "metadata": {},
   "source": [
    "Load `books_df` and undo array-to-list."
   ]
  },
  {
   "cell_type": "code",
   "execution_count": 3,
   "metadata": {},
   "outputs": [
    {
     "data": {
      "text/html": [
       "<div>\n",
       "<style scoped>\n",
       "    .dataframe tbody tr th:only-of-type {\n",
       "        vertical-align: middle;\n",
       "    }\n",
       "\n",
       "    .dataframe tbody tr th {\n",
       "        vertical-align: top;\n",
       "    }\n",
       "\n",
       "    .dataframe thead th {\n",
       "        text-align: right;\n",
       "    }\n",
       "</style>\n",
       "<table border=\"1\" class=\"dataframe\">\n",
       "  <thead>\n",
       "    <tr style=\"text-align: right;\">\n",
       "      <th></th>\n",
       "      <th>book</th>\n",
       "      <th>text</th>\n",
       "      <th>authenticity</th>\n",
       "      <th>clean</th>\n",
       "      <th>book_vec</th>\n",
       "    </tr>\n",
       "  </thead>\n",
       "  <tbody>\n",
       "    <tr>\n",
       "      <th>0</th>\n",
       "      <td>1</td>\n",
       "      <td>My name is Jake. That's my first name, obvious...</td>\n",
       "      <td>1</td>\n",
       "      <td>[name, thats, first, name, obviously, cant, te...</td>\n",
       "      <td>[0.0010895184, 0.2081184, -0.05931624, 0.01286...</td>\n",
       "    </tr>\n",
       "    <tr>\n",
       "      <th>1</th>\n",
       "      <td>2</td>\n",
       "      <td>My name is Rachel. I won't tell you my last na...</td>\n",
       "      <td>1</td>\n",
       "      <td>[name, tell, last, name, none, us, ever, tell,...</td>\n",
       "      <td>[-0.00226549, 0.22271992, -0.065148115, 0.0113...</td>\n",
       "    </tr>\n",
       "    <tr>\n",
       "      <th>2</th>\n",
       "      <td>3</td>\n",
       "      <td>My name is Tobias. A freak of nature. One of a...</td>\n",
       "      <td>1</td>\n",
       "      <td>[name, freak, nature, kind, tell, last, name, ...</td>\n",
       "      <td>[-0.0129256295, 0.21558568, -0.05230921, 0.003...</td>\n",
       "    </tr>\n",
       "    <tr>\n",
       "      <th>3</th>\n",
       "      <td>4</td>\n",
       "      <td>My name is Cassie.\\nI can't tell you my last n...</td>\n",
       "      <td>1</td>\n",
       "      <td>[name, cant, tell, last, name, wish, could, ca...</td>\n",
       "      <td>[-0.0025382496, 0.21817772, -0.069260634, 0.00...</td>\n",
       "    </tr>\n",
       "    <tr>\n",
       "      <th>4</th>\n",
       "      <td>5</td>\n",
       "      <td>My name is Marco.\\nI can't tell you my last na...</td>\n",
       "      <td>1</td>\n",
       "      <td>[name, cant, tell, last, name, live, believe, ...</td>\n",
       "      <td>[-0.00024333985, 0.22410813, -0.054545447, 0.0...</td>\n",
       "    </tr>\n",
       "  </tbody>\n",
       "</table>\n",
       "</div>"
      ],
      "text/plain": [
       "   book                                               text  authenticity  \\\n",
       "0     1  My name is Jake. That's my first name, obvious...             1   \n",
       "1     2  My name is Rachel. I won't tell you my last na...             1   \n",
       "2     3  My name is Tobias. A freak of nature. One of a...             1   \n",
       "3     4  My name is Cassie.\\nI can't tell you my last n...             1   \n",
       "4     5  My name is Marco.\\nI can't tell you my last na...             1   \n",
       "\n",
       "                                               clean  \\\n",
       "0  [name, thats, first, name, obviously, cant, te...   \n",
       "1  [name, tell, last, name, none, us, ever, tell,...   \n",
       "2  [name, freak, nature, kind, tell, last, name, ...   \n",
       "3  [name, cant, tell, last, name, wish, could, ca...   \n",
       "4  [name, cant, tell, last, name, live, believe, ...   \n",
       "\n",
       "                                            book_vec  \n",
       "0  [0.0010895184, 0.2081184, -0.05931624, 0.01286...  \n",
       "1  [-0.00226549, 0.22271992, -0.065148115, 0.0113...  \n",
       "2  [-0.0129256295, 0.21558568, -0.05230921, 0.003...  \n",
       "3  [-0.0025382496, 0.21817772, -0.069260634, 0.00...  \n",
       "4  [-0.00024333985, 0.22410813, -0.054545447, 0.0...  "
      ]
     },
     "execution_count": 3,
     "metadata": {},
     "output_type": "execute_result"
    }
   ],
   "source": [
    "books_df = pd.read_csv('../data/animorphs_books.csv')\n",
    "\n",
    "for col in ['clean','book_vec']:\n",
    "    books_df[col] = books_df[col].map(literal_eval) # as lists\n",
    "    \n",
    "for col in ['book_vec']:\n",
    "    books_df[col] = books_df[col].map(np.array) # as array\n",
    "    \n",
    "books_df.head()"
   ]
  },
  {
   "cell_type": "markdown",
   "metadata": {},
   "source": [
    "Load W2V results."
   ]
  },
  {
   "cell_type": "code",
   "execution_count": 4,
   "metadata": {},
   "outputs": [
    {
     "data": {
      "text/html": [
       "<div>\n",
       "<style scoped>\n",
       "    .dataframe tbody tr th:only-of-type {\n",
       "        vertical-align: middle;\n",
       "    }\n",
       "\n",
       "    .dataframe tbody tr th {\n",
       "        vertical-align: top;\n",
       "    }\n",
       "\n",
       "    .dataframe thead th {\n",
       "        text-align: right;\n",
       "    }\n",
       "</style>\n",
       "<table border=\"1\" class=\"dataframe\">\n",
       "  <thead>\n",
       "    <tr style=\"text-align: right;\">\n",
       "      <th></th>\n",
       "      <th>book</th>\n",
       "      <th>w2vsvm book pred proba</th>\n",
       "      <th>w2vsvm chap pred avg</th>\n",
       "      <th>w2vsvm chap pred proba avg</th>\n",
       "      <th>authenticity</th>\n",
       "    </tr>\n",
       "  </thead>\n",
       "  <tbody>\n",
       "    <tr>\n",
       "      <th>0</th>\n",
       "      <td>1</td>\n",
       "      <td>0.991171</td>\n",
       "      <td>0.925926</td>\n",
       "      <td>0.740572</td>\n",
       "      <td>1</td>\n",
       "    </tr>\n",
       "    <tr>\n",
       "      <th>1</th>\n",
       "      <td>2</td>\n",
       "      <td>0.972882</td>\n",
       "      <td>0.869565</td>\n",
       "      <td>0.729202</td>\n",
       "      <td>1</td>\n",
       "    </tr>\n",
       "    <tr>\n",
       "      <th>2</th>\n",
       "      <td>3</td>\n",
       "      <td>0.978186</td>\n",
       "      <td>0.777778</td>\n",
       "      <td>0.720986</td>\n",
       "      <td>1</td>\n",
       "    </tr>\n",
       "    <tr>\n",
       "      <th>3</th>\n",
       "      <td>4</td>\n",
       "      <td>0.973608</td>\n",
       "      <td>0.920000</td>\n",
       "      <td>0.730618</td>\n",
       "      <td>1</td>\n",
       "    </tr>\n",
       "    <tr>\n",
       "      <th>4</th>\n",
       "      <td>5</td>\n",
       "      <td>0.988004</td>\n",
       "      <td>0.875000</td>\n",
       "      <td>0.796461</td>\n",
       "      <td>1</td>\n",
       "    </tr>\n",
       "  </tbody>\n",
       "</table>\n",
       "</div>"
      ],
      "text/plain": [
       "   book  w2vsvm book pred proba  w2vsvm chap pred avg  \\\n",
       "0     1                0.991171              0.925926   \n",
       "1     2                0.972882              0.869565   \n",
       "2     3                0.978186              0.777778   \n",
       "3     4                0.973608              0.920000   \n",
       "4     5                0.988004              0.875000   \n",
       "\n",
       "   w2vsvm chap pred proba avg  authenticity  \n",
       "0                    0.740572             1  \n",
       "1                    0.729202             1  \n",
       "2                    0.720986             1  \n",
       "3                    0.730618             1  \n",
       "4                    0.796461             1  "
      ]
     },
     "execution_count": 4,
     "metadata": {},
     "output_type": "execute_result"
    }
   ],
   "source": [
    "old_results = pd.read_csv('../data/results.csv')\n",
    "\n",
    "old_results.head()"
   ]
  },
  {
   "cell_type": "markdown",
   "metadata": {},
   "source": [
    "## Word Count Vectors"
   ]
  },
  {
   "cell_type": "markdown",
   "metadata": {},
   "source": [
    "Because the Word2Vec-based model did not return ideal results, we instead will try methods that do not attempt to interpret the contexts or meanings of words. This will hopefully allow models to better pick up on style."
   ]
  },
  {
   "cell_type": "markdown",
   "metadata": {},
   "source": [
    "Our simpler options for word vectorization are CountVectorizer, which returns straightforward word counts, and TFIDFVectorizer, which scales based on term frequency times the inverse document frequency. "
   ]
  },
  {
   "cell_type": "code",
   "execution_count": 6,
   "metadata": {},
   "outputs": [],
   "source": [
    "def cvec_all(df, col, max_features=100):\n",
    "    cvec = CountVectorizer(max_features=max_features)\n",
    "    return pd.DataFrame(cvec.fit_transform(df[col].map(' '.join)).toarray(),\n",
    "                        columns=cvec.get_feature_names())\n",
    "\n",
    "def tvec_all(df, col, max_features=100):\n",
    "    tvec = TfidfVectorizer(max_features=max_features)\n",
    "    return pd.DataFrame(tvec.fit_transform(df[col].map(' '.join)).toarray(),\n",
    "                        columns=tvec.get_feature_names())"
   ]
  },
  {
   "cell_type": "markdown",
   "metadata": {},
   "source": [
    "## Modeling"
   ]
  },
  {
   "cell_type": "markdown",
   "metadata": {},
   "source": [
    "Random state for SVM."
   ]
  },
  {
   "cell_type": "code",
   "execution_count": 5,
   "metadata": {},
   "outputs": [],
   "source": [
    "seed = 1007"
   ]
  },
  {
   "cell_type": "markdown",
   "metadata": {},
   "source": [
    "We'll use similar functions to those we used for the W2V SVM to do leave-one-out analysis to maximize the training data available when checking each book. We could not use the exact same code, as this set of models is taking in a different type of word vector stored in a different format."
   ]
  },
  {
   "cell_type": "code",
   "execution_count": 7,
   "metadata": {},
   "outputs": [],
   "source": [
    "max_features = 500"
   ]
  },
  {
   "cell_type": "code",
   "execution_count": 8,
   "metadata": {},
   "outputs": [],
   "source": [
    "def p1o_book(book_out, model, params, books_df=books_df): # predict 1 out\n",
    "\n",
    "    train_inds = books_df['book'] != book_out\n",
    "    test_inds = books_df['book'] == book_out\n",
    "    \n",
    "    vec_df = cvec_all(books_df, 'clean', max_features=max_features)\n",
    "    \n",
    "    X_b = vec_df.loc[train_inds]\n",
    "    y_b = books_df['authenticity'].loc[train_inds]\n",
    "    \n",
    "    X_b_test = vec_df.loc[test_inds]\n",
    "\n",
    "    model = do_gs(model, params, X_b, y_b)\n",
    "    return (model.predict(X_b_test), model.predict_proba(X_b_test)[:,1])"
   ]
  },
  {
   "cell_type": "code",
   "execution_count": 9,
   "metadata": {},
   "outputs": [],
   "source": [
    "def p1o_chap(book_out, model, params, chaps_df=chaps_df): # predict 1 out\n",
    "\n",
    "    train_inds = chaps_df['book'] != book_out\n",
    "    test_inds = chaps_df['book'] == book_out\n",
    "    \n",
    "    vec_df = cvec_all(chaps_df, 'clean', max_features=max_features)\n",
    "    \n",
    "    X_c = vec_df.loc[train_inds]\n",
    "    y_c = chaps_df['authenticity'].loc[train_inds]\n",
    "    \n",
    "    X_c_test = vec_df.loc[test_inds]\n",
    "    \n",
    "    model = do_gs(model, params, X_c, y_c)\n",
    "#     print(f'book {book_out} complete')\n",
    "    return (np.mean(model.predict(X_c_test)), \n",
    "            np.mean(model.predict_proba(X_c_test)[:,1]))"
   ]
  },
  {
   "cell_type": "markdown",
   "metadata": {},
   "source": [
    "Establish some parameters to search over for the types of models we'll run: Naive Bayes and Support Vector Machine. These are the two most common supervised models in stylometric NLP, and each are well-proven on the types of data that our word vectorizers will offer."
   ]
  },
  {
   "cell_type": "code",
   "execution_count": 10,
   "metadata": {},
   "outputs": [],
   "source": [
    "mnb_params = {'alpha':np.logspace(-3,0,4)}\n",
    "mnb = MultinomialNB()\n",
    "\n",
    "# gnb_params = {}\n",
    "# gnb = GaussianNB()\n",
    "\n",
    "svm_params = {\n",
    "    'C':np.logspace(2,4,5),\n",
    "    'kernel':['rbf']\n",
    "}\n",
    "svm = SVC(random_state=seed, gamma='scale',\n",
    "          max_iter=5e4, probability=True)"
   ]
  },
  {
   "cell_type": "markdown",
   "metadata": {},
   "source": [
    "Generate Results"
   ]
  },
  {
   "cell_type": "code",
   "execution_count": 11,
   "metadata": {},
   "outputs": [],
   "source": [
    "new_results = pd.DataFrame({'book':range(1,55)})\n",
    "new_results['mnb book pred'] = new_results['book'].map(\n",
    "    lambda b:p1o_book(b, mnb, mnb_params)[0][0])\n",
    "new_results['mnb chap pred avg'] = new_results['book'].map(\n",
    "    lambda b:p1o_chap(b, mnb, mnb_params)[0])\n",
    "new_results['svm book pred proba'] = new_results['book'].map(\n",
    "    lambda b:p1o_book(b, svm, svm_params)[1][0])\n",
    "new_results['svm chap pred proba avg'] = new_results['book'].map(\n",
    "    lambda b:p1o_chap(b, svm, svm_params)[1])\n",
    "new_results['authenticity'] = books_df['authenticity']"
   ]
  },
  {
   "cell_type": "code",
   "execution_count": 12,
   "metadata": {},
   "outputs": [
    {
     "data": {
      "text/html": [
       "<div>\n",
       "<style scoped>\n",
       "    .dataframe tbody tr th:only-of-type {\n",
       "        vertical-align: middle;\n",
       "    }\n",
       "\n",
       "    .dataframe tbody tr th {\n",
       "        vertical-align: top;\n",
       "    }\n",
       "\n",
       "    .dataframe thead th {\n",
       "        text-align: right;\n",
       "    }\n",
       "</style>\n",
       "<table border=\"1\" class=\"dataframe\">\n",
       "  <thead>\n",
       "    <tr style=\"text-align: right;\">\n",
       "      <th></th>\n",
       "      <th>book</th>\n",
       "      <th>w2vsvm book pred proba</th>\n",
       "      <th>w2vsvm chap pred avg</th>\n",
       "      <th>w2vsvm chap pred proba avg</th>\n",
       "      <th>authenticity</th>\n",
       "    </tr>\n",
       "  </thead>\n",
       "  <tbody>\n",
       "    <tr>\n",
       "      <th>0</th>\n",
       "      <td>1</td>\n",
       "      <td>0.991171</td>\n",
       "      <td>0.925926</td>\n",
       "      <td>0.740572</td>\n",
       "      <td>1</td>\n",
       "    </tr>\n",
       "    <tr>\n",
       "      <th>1</th>\n",
       "      <td>2</td>\n",
       "      <td>0.972882</td>\n",
       "      <td>0.869565</td>\n",
       "      <td>0.729202</td>\n",
       "      <td>1</td>\n",
       "    </tr>\n",
       "    <tr>\n",
       "      <th>2</th>\n",
       "      <td>3</td>\n",
       "      <td>0.978186</td>\n",
       "      <td>0.777778</td>\n",
       "      <td>0.720986</td>\n",
       "      <td>1</td>\n",
       "    </tr>\n",
       "    <tr>\n",
       "      <th>3</th>\n",
       "      <td>4</td>\n",
       "      <td>0.973608</td>\n",
       "      <td>0.920000</td>\n",
       "      <td>0.730618</td>\n",
       "      <td>1</td>\n",
       "    </tr>\n",
       "    <tr>\n",
       "      <th>4</th>\n",
       "      <td>5</td>\n",
       "      <td>0.988004</td>\n",
       "      <td>0.875000</td>\n",
       "      <td>0.796461</td>\n",
       "      <td>1</td>\n",
       "    </tr>\n",
       "  </tbody>\n",
       "</table>\n",
       "</div>"
      ],
      "text/plain": [
       "   book  w2vsvm book pred proba  w2vsvm chap pred avg  \\\n",
       "0     1                0.991171              0.925926   \n",
       "1     2                0.972882              0.869565   \n",
       "2     3                0.978186              0.777778   \n",
       "3     4                0.973608              0.920000   \n",
       "4     5                0.988004              0.875000   \n",
       "\n",
       "   w2vsvm chap pred proba avg  authenticity  \n",
       "0                    0.740572             1  \n",
       "1                    0.729202             1  \n",
       "2                    0.720986             1  \n",
       "3                    0.730618             1  \n",
       "4                    0.796461             1  "
      ]
     },
     "execution_count": 12,
     "metadata": {},
     "output_type": "execute_result"
    }
   ],
   "source": [
    "old_results.head()"
   ]
  },
  {
   "cell_type": "markdown",
   "metadata": {},
   "source": [
    "We cannot visualize all of these outcomes in the way we did the previous, as the Naive Bayes models do not return meaningful probabilities. "
   ]
  },
  {
   "cell_type": "code",
   "execution_count": 13,
   "metadata": {},
   "outputs": [
    {
     "data": {
      "text/html": [
       "<div>\n",
       "<style scoped>\n",
       "    .dataframe tbody tr th:only-of-type {\n",
       "        vertical-align: middle;\n",
       "    }\n",
       "\n",
       "    .dataframe tbody tr th {\n",
       "        vertical-align: top;\n",
       "    }\n",
       "\n",
       "    .dataframe thead th {\n",
       "        text-align: right;\n",
       "    }\n",
       "</style>\n",
       "<table border=\"1\" class=\"dataframe\">\n",
       "  <thead>\n",
       "    <tr style=\"text-align: right;\">\n",
       "      <th></th>\n",
       "      <th>book</th>\n",
       "      <th>mnb book pred</th>\n",
       "      <th>mnb chap pred avg</th>\n",
       "      <th>svm book pred proba</th>\n",
       "      <th>svm chap pred proba avg</th>\n",
       "      <th>authenticity</th>\n",
       "    </tr>\n",
       "  </thead>\n",
       "  <tbody>\n",
       "    <tr>\n",
       "      <th>0</th>\n",
       "      <td>1</td>\n",
       "      <td>1</td>\n",
       "      <td>0.814815</td>\n",
       "      <td>1.000000</td>\n",
       "      <td>0.878420</td>\n",
       "      <td>1</td>\n",
       "    </tr>\n",
       "    <tr>\n",
       "      <th>1</th>\n",
       "      <td>2</td>\n",
       "      <td>1</td>\n",
       "      <td>0.869565</td>\n",
       "      <td>1.000000</td>\n",
       "      <td>0.890153</td>\n",
       "      <td>1</td>\n",
       "    </tr>\n",
       "    <tr>\n",
       "      <th>2</th>\n",
       "      <td>3</td>\n",
       "      <td>1</td>\n",
       "      <td>0.888889</td>\n",
       "      <td>0.953823</td>\n",
       "      <td>0.864677</td>\n",
       "      <td>1</td>\n",
       "    </tr>\n",
       "    <tr>\n",
       "      <th>3</th>\n",
       "      <td>4</td>\n",
       "      <td>1</td>\n",
       "      <td>0.840000</td>\n",
       "      <td>0.991939</td>\n",
       "      <td>0.778279</td>\n",
       "      <td>1</td>\n",
       "    </tr>\n",
       "    <tr>\n",
       "      <th>4</th>\n",
       "      <td>5</td>\n",
       "      <td>1</td>\n",
       "      <td>0.875000</td>\n",
       "      <td>0.952473</td>\n",
       "      <td>0.816749</td>\n",
       "      <td>1</td>\n",
       "    </tr>\n",
       "  </tbody>\n",
       "</table>\n",
       "</div>"
      ],
      "text/plain": [
       "   book  mnb book pred  mnb chap pred avg  svm book pred proba  \\\n",
       "0     1              1           0.814815             1.000000   \n",
       "1     2              1           0.869565             1.000000   \n",
       "2     3              1           0.888889             0.953823   \n",
       "3     4              1           0.840000             0.991939   \n",
       "4     5              1           0.875000             0.952473   \n",
       "\n",
       "   svm chap pred proba avg  authenticity  \n",
       "0                 0.878420             1  \n",
       "1                 0.890153             1  \n",
       "2                 0.864677             1  \n",
       "3                 0.778279             1  \n",
       "4                 0.816749             1  "
      ]
     },
     "execution_count": 13,
     "metadata": {},
     "output_type": "execute_result"
    }
   ],
   "source": [
    "new_results.head()"
   ]
  },
  {
   "cell_type": "markdown",
   "metadata": {},
   "source": [
    "## Model Evaluation"
   ]
  },
  {
   "cell_type": "markdown",
   "metadata": {},
   "source": [
    "Combine result tables."
   ]
  },
  {
   "cell_type": "code",
   "execution_count": 14,
   "metadata": {},
   "outputs": [
    {
     "data": {
      "text/html": [
       "<div>\n",
       "<style scoped>\n",
       "    .dataframe tbody tr th:only-of-type {\n",
       "        vertical-align: middle;\n",
       "    }\n",
       "\n",
       "    .dataframe tbody tr th {\n",
       "        vertical-align: top;\n",
       "    }\n",
       "\n",
       "    .dataframe thead th {\n",
       "        text-align: right;\n",
       "    }\n",
       "</style>\n",
       "<table border=\"1\" class=\"dataframe\">\n",
       "  <thead>\n",
       "    <tr style=\"text-align: right;\">\n",
       "      <th></th>\n",
       "      <th>book</th>\n",
       "      <th>w2vsvm book pred proba</th>\n",
       "      <th>w2vsvm chap pred avg</th>\n",
       "      <th>w2vsvm chap pred proba avg</th>\n",
       "      <th>mnb book pred</th>\n",
       "      <th>mnb chap pred avg</th>\n",
       "      <th>svm book pred proba</th>\n",
       "      <th>svm chap pred proba avg</th>\n",
       "      <th>authenticity</th>\n",
       "    </tr>\n",
       "  </thead>\n",
       "  <tbody>\n",
       "    <tr>\n",
       "      <th>0</th>\n",
       "      <td>1</td>\n",
       "      <td>0.991171</td>\n",
       "      <td>0.925926</td>\n",
       "      <td>0.740572</td>\n",
       "      <td>1</td>\n",
       "      <td>0.814815</td>\n",
       "      <td>1.000000</td>\n",
       "      <td>0.878420</td>\n",
       "      <td>1</td>\n",
       "    </tr>\n",
       "    <tr>\n",
       "      <th>1</th>\n",
       "      <td>2</td>\n",
       "      <td>0.972882</td>\n",
       "      <td>0.869565</td>\n",
       "      <td>0.729202</td>\n",
       "      <td>1</td>\n",
       "      <td>0.869565</td>\n",
       "      <td>1.000000</td>\n",
       "      <td>0.890153</td>\n",
       "      <td>1</td>\n",
       "    </tr>\n",
       "    <tr>\n",
       "      <th>2</th>\n",
       "      <td>3</td>\n",
       "      <td>0.978186</td>\n",
       "      <td>0.777778</td>\n",
       "      <td>0.720986</td>\n",
       "      <td>1</td>\n",
       "      <td>0.888889</td>\n",
       "      <td>0.953823</td>\n",
       "      <td>0.864677</td>\n",
       "      <td>1</td>\n",
       "    </tr>\n",
       "    <tr>\n",
       "      <th>3</th>\n",
       "      <td>4</td>\n",
       "      <td>0.973608</td>\n",
       "      <td>0.920000</td>\n",
       "      <td>0.730618</td>\n",
       "      <td>1</td>\n",
       "      <td>0.840000</td>\n",
       "      <td>0.991939</td>\n",
       "      <td>0.778279</td>\n",
       "      <td>1</td>\n",
       "    </tr>\n",
       "    <tr>\n",
       "      <th>4</th>\n",
       "      <td>5</td>\n",
       "      <td>0.988004</td>\n",
       "      <td>0.875000</td>\n",
       "      <td>0.796461</td>\n",
       "      <td>1</td>\n",
       "      <td>0.875000</td>\n",
       "      <td>0.952473</td>\n",
       "      <td>0.816749</td>\n",
       "      <td>1</td>\n",
       "    </tr>\n",
       "  </tbody>\n",
       "</table>\n",
       "</div>"
      ],
      "text/plain": [
       "   book  w2vsvm book pred proba  w2vsvm chap pred avg  \\\n",
       "0     1                0.991171              0.925926   \n",
       "1     2                0.972882              0.869565   \n",
       "2     3                0.978186              0.777778   \n",
       "3     4                0.973608              0.920000   \n",
       "4     5                0.988004              0.875000   \n",
       "\n",
       "   w2vsvm chap pred proba avg  mnb book pred  mnb chap pred avg  \\\n",
       "0                    0.740572              1           0.814815   \n",
       "1                    0.729202              1           0.869565   \n",
       "2                    0.720986              1           0.888889   \n",
       "3                    0.730618              1           0.840000   \n",
       "4                    0.796461              1           0.875000   \n",
       "\n",
       "   svm book pred proba  svm chap pred proba avg  authenticity  \n",
       "0             1.000000                 0.878420             1  \n",
       "1             1.000000                 0.890153             1  \n",
       "2             0.953823                 0.864677             1  \n",
       "3             0.991939                 0.778279             1  \n",
       "4             0.952473                 0.816749             1  "
      ]
     },
     "execution_count": 14,
     "metadata": {},
     "output_type": "execute_result"
    }
   ],
   "source": [
    "results = pd.concat(\n",
    "    [old_results.drop(columns='authenticity'),\n",
    "     new_results.drop(columns='book')],\n",
    "    axis=1)\n",
    "results.head()"
   ]
  },
  {
   "cell_type": "code",
   "execution_count": 15,
   "metadata": {},
   "outputs": [],
   "source": [
    "results.to_csv('../data/results_u.csv', index=False)"
   ]
  },
  {
   "cell_type": "markdown",
   "metadata": {},
   "source": [
    "Check models' accuracy."
   ]
  },
  {
   "cell_type": "code",
   "execution_count": 16,
   "metadata": {},
   "outputs": [
    {
     "name": "stdout",
     "output_type": "stream",
     "text": [
      "Accuracy Scores:\n"
     ]
    },
    {
     "data": {
      "text/plain": [
       "{'w2vsvm book pred proba': 0.8518518518518519,\n",
       " 'w2vsvm chap pred avg': 0.8703703703703703,\n",
       " 'w2vsvm chap pred proba avg': 0.8703703703703703,\n",
       " 'mnb book pred': 0.9259259259259259,\n",
       " 'mnb chap pred avg': 0.8703703703703703,\n",
       " 'svm book pred proba': 0.962962962962963,\n",
       " 'svm chap pred proba avg': 0.9259259259259259}"
      ]
     },
     "execution_count": 16,
     "metadata": {},
     "output_type": "execute_result"
    }
   ],
   "source": [
    "print('Accuracy Scores:') # rounds proba to 0 or 1 for determining accuracy\n",
    "{col:col_acc(results, col) \n",
    " for col in results.columns \n",
    " if col not in ['book','authenticity']}"
   ]
  },
  {
   "cell_type": "markdown",
   "metadata": {},
   "source": [
    "The high accuracy of the non-W2V Support Vector Machine classifier is encouraging, but we must ensure that it does not struggle with 'out of place' books the way the other models. do."
   ]
  },
  {
   "cell_type": "code",
   "execution_count": 17,
   "metadata": {},
   "outputs": [
    {
     "name": "stdout",
     "output_type": "stream",
     "text": [
      "Which books did each method get wrong?\n"
     ]
    },
    {
     "data": {
      "text/plain": [
       "{'w2vsvm book pred proba': {24, 25, 26, 34, 48, 50, 53, 54},\n",
       " 'w2vsvm chap pred avg': {25, 26, 29, 34, 50, 53, 54},\n",
       " 'w2vsvm chap pred proba avg': {25, 28, 29, 34, 50, 53, 54},\n",
       " 'mnb book pred': {13, 25, 34, 53},\n",
       " 'mnb chap pred avg': {25, 27, 28, 34, 43, 48, 53},\n",
       " 'svm book pred proba': {13, 18},\n",
       " 'svm chap pred proba avg': {25, 28, 31, 34}}"
      ]
     },
     "execution_count": 17,
     "metadata": {},
     "output_type": "execute_result"
    }
   ],
   "source": [
    "print('Which books did each method get wrong?')\n",
    "wrongs = {col:inacc_set(results, col) \n",
    "          for col in results.columns \n",
    "          if col not in ['book','authenticity']}\n",
    "wrongs"
   ]
  },
  {
   "cell_type": "markdown",
   "metadata": {},
   "source": [
    "Interestingly, the SVM on CountVectorized entire books accurately assesses the books expected to be challenging (25, 26, 32, 53, and 54) as well as one that most other models confusingly struggled with (34). It errs twice on books that nearly every other method correctly predicted, but still results in a high accuracy. For this reason, I am confident selecting the CountVectorizer Support Vector Machine classifier as our recommended model."
   ]
  },
  {
   "cell_type": "markdown",
   "metadata": {},
   "source": [
    "We'll develop a plot similar to before to compare the predictions of each model."
   ]
  },
  {
   "cell_type": "code",
   "execution_count": 18,
   "metadata": {},
   "outputs": [
    {
     "data": {
      "image/png": "[encoded data removed]",
      "text/plain": [
       "<Figure size 648x288 with 1 Axes>"
      ]
     },
     "metadata": {
      "needs_background": "light"
     },
     "output_type": "display_data"
    }
   ],
   "source": [
    "plt.figure(figsize=(9,4))\n",
    "plt.axhline(.5,c='#555555')\n",
    "plt.scatter(range(1,55), results['authenticity'],\n",
    "            c='k', marker='_', label='True Authenticity')\n",
    "plt.scatter(range(1,55), results['w2vsvm chap pred proba avg'],\n",
    "            c='r', marker='.', label='W2V SVM by Chapter')\n",
    "plt.scatter(range(1,55), results['w2vsvm book pred proba'], \n",
    "            c='crimson', marker='.', label='W2V SVM by Book')\n",
    "plt.scatter(range(1,55), results['mnb chap pred avg'],\n",
    "            c='darkorchid', marker='.', \n",
    "            label='Count Naive Bayes by Chapter')\n",
    "plt.scatter(range(1,55), results['svm book pred proba'],\n",
    "            c='royalblue', marker='.', label='Count SVM by Book')\n",
    "plt.scatter(range(1,55), results['svm chap pred proba avg'],\n",
    "            c='darkblue', marker='.', label='Count SVM by Chapter')\n",
    "\n",
    "plt.legend(fancybox=True, framealpha=0)\n",
    "plt.title('Predicted Animorphs Book Authenticity Probabilities')\n",
    "plt.xlabel('Book Number')\n",
    "plt.ylabel('Authenticity Probability')\n",
    "plt.savefig('../figures/all_results.png');"
   ]
  },
  {
   "cell_type": "markdown",
   "metadata": {},
   "source": [
    "There's a lot of information conveyed there, but it may be easier to read if we just compare our final choice, the count-based book SVM, against an analogous baseline, the W2V book SVM. "
   ]
  },
  {
   "cell_type": "code",
   "execution_count": 19,
   "metadata": {},
   "outputs": [
    {
     "data": {
      "image/png": "[encoded data removed]",
      "text/plain": [
       "<Figure size 648x288 with 1 Axes>"
      ]
     },
     "metadata": {
      "needs_background": "light"
     },
     "output_type": "display_data"
    }
   ],
   "source": [
    "plt.figure(figsize=(9,4))\n",
    "plt.axhline(.5,c='#555555')\n",
    "plt.scatter(range(1,55), results['authenticity'],\n",
    "            c='k', marker='_', label='True Authenticity')\n",
    "plt.scatter(range(1,55), results['w2vsvm book pred proba'], \n",
    "            c='crimson', marker='.', label='W2V SVM by Book')\n",
    "plt.scatter(range(1,55), results['svm book pred proba'],\n",
    "            c='royalblue', marker='.', label='Count SVM by Book')\n",
    "\n",
    "plt.legend(fancybox=True, framealpha=0)\n",
    "plt.title('Predicted Animorphs Book Authenticity Probabilities')\n",
    "plt.xlabel('Book Number')\n",
    "plt.ylabel('Authenticity Probability')\n",
    "plt.savefig('../figures/limited_results.png');"
   ]
  },
  {
   "cell_type": "markdown",
   "metadata": {},
   "source": [
    "Unlike our Word2Vec-based models, the count-based SVM doesn't seem to predict lower probabilities over time within the non-ghostwritten first 24 books—it drops immediately at 25, pulls up at 26, and gets all that follow right. It does not percieve or get distracted by the content shift that decieved the W2V models, instead adhering more closely to pure style. It does curiously misclassify two early authentic books that most other models correctly predicted; however, were one to set the probability threshold low enough to meet these, one would have 100% accuracy. That this would even be necessary is an artifact of our leave-one-out methodology, but it signifies that our model is sufficient."
   ]
  },
  {
   "cell_type": "markdown",
   "metadata": {},
   "source": [
    "## Conclusion\n",
    "\n",
    "It is somewhat disappointing that our Word2Vec-based model was outperformed by a simpler count-based model, but not every tool fits every task, and this is evidence that might help resolve disputes over its relevance to stylometry at large. \n",
    "\n",
    "That established, our count-based model was effective and accurate, and were a 55th canonical Animorphs book released today in the style of the 54 that preceded and with its authenticity unknown, we believe that the model would be well-suited to assess its authorship.\n",
    "\n",
    "The Animorphs corpus may be an especially challenging problem for stylometry and authorship detection—it is a series of books with related but progressing content with authorship split mostly sequentially which was edited for consistency by the listed author even when she did not write a book. That an authorship detection model such as this can be established with high accuracy is a testament to the power of natural language processing, even without the involvement of neural networks. \n",
    "\n",
    "Many experiments in stylometry use standard, historic corpuses such as 'great' novels, the Federalist Papers, or the works of Shakespeare, but these corpuses are not representative of the diversity of English writing. We recommend that less formal writing—internet posts, film and television scripts, and yes, even children's and middle-grade book series—also be used as standards against which to assess stylometric techniques, and hope that this project shows that sylometry on informal writing can offer unique insights."
   ]
  }
 ],
 "metadata": {
  "kernelspec": {
   "display_name": "Python 3",
   "language": "python",
   "name": "python3"
  },
  "language_info": {
   "codemirror_mode": {
    "name": "ipython",
    "version": 3
   },
   "file_extension": ".py",
   "mimetype": "text/x-python",
   "name": "python",
   "nbconvert_exporter": "python",
   "pygments_lexer": "ipython3",
   "version": "3.7.6"
  }
 },
 "nbformat": 4,
 "nbformat_minor": 4
}
