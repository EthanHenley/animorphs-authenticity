{
 "cells": [
  {
   "cell_type": "markdown",
   "metadata": {},
   "source": [
    "Imports."
   ]
  },
  {
   "cell_type": "code",
   "execution_count": 1,
   "metadata": {},
   "outputs": [],
   "source": [
    "import numpy as np\n",
    "\n",
    "import pandas as pd\n",
    "\n",
    "from ast import literal_eval\n",
    "\n",
    "from sklearn.model_selection import ParameterGrid\n",
    "from sklearn.preprocessing import StandardScaler\n",
    "from sklearn.svm import SVC"
   ]
  },
  {
   "cell_type": "markdown",
   "metadata": {},
   "source": [
    "Load `chaps_df` and undo array-to-list."
   ]
  },
  {
   "cell_type": "code",
   "execution_count": 2,
   "metadata": {},
   "outputs": [
    {
     "data": {
      "text/html": [
       "<div>\n",
       "<style scoped>\n",
       "    .dataframe tbody tr th:only-of-type {\n",
       "        vertical-align: middle;\n",
       "    }\n",
       "\n",
       "    .dataframe tbody tr th {\n",
       "        vertical-align: top;\n",
       "    }\n",
       "\n",
       "    .dataframe thead th {\n",
       "        text-align: right;\n",
       "    }\n",
       "</style>\n",
       "<table border=\"1\" class=\"dataframe\">\n",
       "  <thead>\n",
       "    <tr style=\"text-align: right;\">\n",
       "      <th></th>\n",
       "      <th>book</th>\n",
       "      <th>chapter</th>\n",
       "      <th>text</th>\n",
       "      <th>authenticity</th>\n",
       "      <th>clean</th>\n",
       "      <th>clean_no_stops</th>\n",
       "      <th>vec_clean</th>\n",
       "    </tr>\n",
       "  </thead>\n",
       "  <tbody>\n",
       "    <tr>\n",
       "      <th>0</th>\n",
       "      <td>1</td>\n",
       "      <td>1</td>\n",
       "      <td>My name is Jake. That's my first name, obvious...</td>\n",
       "      <td>1</td>\n",
       "      <td>[name, thats, first, name, obviously, cant, te...</td>\n",
       "      <td>[my, name, is, jake, thats, my, first, name, o...</td>\n",
       "      <td>[0.050813198, 0.21546867, -0.11217794, 0.05301...</td>\n",
       "    </tr>\n",
       "    <tr>\n",
       "      <th>1</th>\n",
       "      <td>1</td>\n",
       "      <td>2</td>\n",
       "      <td>\"A flying saucer?\" Marco said. He did laugh. T...</td>\n",
       "      <td>1</td>\n",
       "      <td>[flying, saucer, qstinpunc, laugh, looked, cou...</td>\n",
       "      <td>[a, flying, saucer, qstinpunc, marco, said, he...</td>\n",
       "      <td>[0.0059409393, 0.23846294, -0.09167185, 0.0067...</td>\n",
       "    </tr>\n",
       "    <tr>\n",
       "      <th>2</th>\n",
       "      <td>1</td>\n",
       "      <td>3</td>\n",
       "      <td>&lt;They have come to destroy you.&gt;\\nIt was stran...</td>\n",
       "      <td>1</td>\n",
       "      <td>[anglepunc, come, destroy, anglepunc, strange,...</td>\n",
       "      <td>[anglepunc, they, have, come, to, destroy, you...</td>\n",
       "      <td>[0.00516426, 0.25513598, -0.040639274, -0.0519...</td>\n",
       "    </tr>\n",
       "    <tr>\n",
       "      <th>3</th>\n",
       "      <td>1</td>\n",
       "      <td>4</td>\n",
       "      <td>&lt;Yeerks!&gt;\\nThe twin red lights slowed. They tu...</td>\n",
       "      <td>1</td>\n",
       "      <td>[anglepunc, yeerks, exclmpunc, anglepunc, twin...</td>\n",
       "      <td>[anglepunc, yeerks, exclmpunc, anglepunc, the,...</td>\n",
       "      <td>[-0.027513022, 0.24088845, 0.00715725, -0.0299...</td>\n",
       "    </tr>\n",
       "    <tr>\n",
       "      <th>4</th>\n",
       "      <td>1</td>\n",
       "      <td>5</td>\n",
       "      <td>The Hork-Bajir pointed his gun, or whatever it...</td>\n",
       "      <td>1</td>\n",
       "      <td>[hork, odashpunc, bajir, pointed, gun, whateve...</td>\n",
       "      <td>[the, hork, odashpunc, bajir, pointed, his, gu...</td>\n",
       "      <td>[-0.037028935, 0.29484826, 0.030976577, -0.076...</td>\n",
       "    </tr>\n",
       "  </tbody>\n",
       "</table>\n",
       "</div>"
      ],
      "text/plain": [
       "   book  chapter                                               text  \\\n",
       "0     1        1  My name is Jake. That's my first name, obvious...   \n",
       "1     1        2  \"A flying saucer?\" Marco said. He did laugh. T...   \n",
       "2     1        3  <They have come to destroy you.>\\nIt was stran...   \n",
       "3     1        4  <Yeerks!>\\nThe twin red lights slowed. They tu...   \n",
       "4     1        5  The Hork-Bajir pointed his gun, or whatever it...   \n",
       "\n",
       "   authenticity                                              clean  \\\n",
       "0             1  [name, thats, first, name, obviously, cant, te...   \n",
       "1             1  [flying, saucer, qstinpunc, laugh, looked, cou...   \n",
       "2             1  [anglepunc, come, destroy, anglepunc, strange,...   \n",
       "3             1  [anglepunc, yeerks, exclmpunc, anglepunc, twin...   \n",
       "4             1  [hork, odashpunc, bajir, pointed, gun, whateve...   \n",
       "\n",
       "                                      clean_no_stops  \\\n",
       "0  [my, name, is, jake, thats, my, first, name, o...   \n",
       "1  [a, flying, saucer, qstinpunc, marco, said, he...   \n",
       "2  [anglepunc, they, have, come, to, destroy, you...   \n",
       "3  [anglepunc, yeerks, exclmpunc, anglepunc, the,...   \n",
       "4  [the, hork, odashpunc, bajir, pointed, his, gu...   \n",
       "\n",
       "                                           vec_clean  \n",
       "0  [0.050813198, 0.21546867, -0.11217794, 0.05301...  \n",
       "1  [0.0059409393, 0.23846294, -0.09167185, 0.0067...  \n",
       "2  [0.00516426, 0.25513598, -0.040639274, -0.0519...  \n",
       "3  [-0.027513022, 0.24088845, 0.00715725, -0.0299...  \n",
       "4  [-0.037028935, 0.29484826, 0.030976577, -0.076...  "
      ]
     },
     "execution_count": 2,
     "metadata": {},
     "output_type": "execute_result"
    }
   ],
   "source": [
    "chaps_df = pd.read_csv('../data/animorphs_chaps.csv')\n",
    "\n",
    "for col in ['clean','clean_no_stops', 'vec_clean']:\n",
    "    chaps_df[col] = chaps_df[col].map(literal_eval) # as lists\n",
    "    \n",
    "for col in ['vec_clean']:\n",
    "    chaps_df[col] = chaps_df[col].map(np.array) # as array\n",
    "    \n",
    "chaps_df.head()"
   ]
  },
  {
   "cell_type": "markdown",
   "metadata": {},
   "source": [
    "Load `books_df` and undo array-to-list."
   ]
  },
  {
   "cell_type": "code",
   "execution_count": 3,
   "metadata": {},
   "outputs": [
    {
     "data": {
      "text/html": [
       "<div>\n",
       "<style scoped>\n",
       "    .dataframe tbody tr th:only-of-type {\n",
       "        vertical-align: middle;\n",
       "    }\n",
       "\n",
       "    .dataframe tbody tr th {\n",
       "        vertical-align: top;\n",
       "    }\n",
       "\n",
       "    .dataframe thead th {\n",
       "        text-align: right;\n",
       "    }\n",
       "</style>\n",
       "<table border=\"1\" class=\"dataframe\">\n",
       "  <thead>\n",
       "    <tr style=\"text-align: right;\">\n",
       "      <th></th>\n",
       "      <th>book</th>\n",
       "      <th>text</th>\n",
       "      <th>authenticity</th>\n",
       "      <th>clean</th>\n",
       "      <th>book_vec</th>\n",
       "    </tr>\n",
       "  </thead>\n",
       "  <tbody>\n",
       "    <tr>\n",
       "      <th>0</th>\n",
       "      <td>1</td>\n",
       "      <td>My name is Jake. That's my first name, obvious...</td>\n",
       "      <td>1</td>\n",
       "      <td>['name', 'thats', 'first', 'name', 'obviously'...</td>\n",
       "      <td>[0.0010895184, 0.2081184, -0.05931624, 0.01286...</td>\n",
       "    </tr>\n",
       "    <tr>\n",
       "      <th>1</th>\n",
       "      <td>2</td>\n",
       "      <td>My name is Rachel. I won't tell you my last na...</td>\n",
       "      <td>1</td>\n",
       "      <td>['name', 'tell', 'last', 'name', 'none', 'us',...</td>\n",
       "      <td>[-0.00226549, 0.22271992, -0.065148115, 0.0113...</td>\n",
       "    </tr>\n",
       "    <tr>\n",
       "      <th>2</th>\n",
       "      <td>3</td>\n",
       "      <td>My name is Tobias. A freak of nature. One of a...</td>\n",
       "      <td>1</td>\n",
       "      <td>['name', 'freak', 'nature', 'kind', 'tell', 'l...</td>\n",
       "      <td>[-0.0129256295, 0.21558568, -0.05230921, 0.003...</td>\n",
       "    </tr>\n",
       "    <tr>\n",
       "      <th>3</th>\n",
       "      <td>4</td>\n",
       "      <td>My name is Cassie.\\nI can't tell you my last n...</td>\n",
       "      <td>1</td>\n",
       "      <td>['name', 'cant', 'tell', 'last', 'name', 'wish...</td>\n",
       "      <td>[-0.0025382496, 0.21817772, -0.069260634, 0.00...</td>\n",
       "    </tr>\n",
       "    <tr>\n",
       "      <th>4</th>\n",
       "      <td>5</td>\n",
       "      <td>My name is Marco.\\nI can't tell you my last na...</td>\n",
       "      <td>1</td>\n",
       "      <td>['name', 'cant', 'tell', 'last', 'name', 'live...</td>\n",
       "      <td>[-0.00024333985, 0.22410813, -0.054545447, 0.0...</td>\n",
       "    </tr>\n",
       "  </tbody>\n",
       "</table>\n",
       "</div>"
      ],
      "text/plain": [
       "   book                                               text  authenticity  \\\n",
       "0     1  My name is Jake. That's my first name, obvious...             1   \n",
       "1     2  My name is Rachel. I won't tell you my last na...             1   \n",
       "2     3  My name is Tobias. A freak of nature. One of a...             1   \n",
       "3     4  My name is Cassie.\\nI can't tell you my last n...             1   \n",
       "4     5  My name is Marco.\\nI can't tell you my last na...             1   \n",
       "\n",
       "                                               clean  \\\n",
       "0  ['name', 'thats', 'first', 'name', 'obviously'...   \n",
       "1  ['name', 'tell', 'last', 'name', 'none', 'us',...   \n",
       "2  ['name', 'freak', 'nature', 'kind', 'tell', 'l...   \n",
       "3  ['name', 'cant', 'tell', 'last', 'name', 'wish...   \n",
       "4  ['name', 'cant', 'tell', 'last', 'name', 'live...   \n",
       "\n",
       "                                            book_vec  \n",
       "0  [0.0010895184, 0.2081184, -0.05931624, 0.01286...  \n",
       "1  [-0.00226549, 0.22271992, -0.065148115, 0.0113...  \n",
       "2  [-0.0129256295, 0.21558568, -0.05230921, 0.003...  \n",
       "3  [-0.0025382496, 0.21817772, -0.069260634, 0.00...  \n",
       "4  [-0.00024333985, 0.22410813, -0.054545447, 0.0...  "
      ]
     },
     "execution_count": 3,
     "metadata": {},
     "output_type": "execute_result"
    }
   ],
   "source": [
    "books_df = pd.read_csv('../data/animorphs_books.csv')\n",
    "\n",
    "for col in ['book_vec']:\n",
    "    books_df[col] = books_df[col].map(literal_eval) # as lists\n",
    "    \n",
    "for col in ['book_vec']:\n",
    "    books_df[col] = books_df[col].map(np.array) # as array\n",
    "    \n",
    "books_df.head()"
   ]
  },
  {
   "cell_type": "markdown",
   "metadata": {},
   "source": [
    "Modeling."
   ]
  },
  {
   "cell_type": "code",
   "execution_count": 4,
   "metadata": {},
   "outputs": [],
   "source": [
    "seed = 1007\n",
    "cv_times = 5"
   ]
  },
  {
   "cell_type": "markdown",
   "metadata": {},
   "source": [
    "A manual, not-cross-validated gridsearch. This is desirable because of our leave-one-out training, which will be detailed ahead."
   ]
  },
  {
   "cell_type": "code",
   "execution_count": 5,
   "metadata": {},
   "outputs": [],
   "source": [
    "def do_gs(model, params, X, y): # do gridsearch\n",
    "    # adapted from David at https://stackoverflow.com/questions/34624978\n",
    "    \n",
    "    best_score = -1\n",
    "    best_p = {}\n",
    "    \n",
    "    for p in ParameterGrid(params):\n",
    "        \n",
    "        model.set_params(**p)\n",
    "        model.fit(X,y)\n",
    "        \n",
    "        if model.score(X,y) > best_score:\n",
    "            best_score = model.score(X,y)\n",
    "            best_p = p\n",
    "            \n",
    "    model.set_params(**best_p)\n",
    "    model.fit(X,y)\n",
    "    \n",
    "    return model"
   ]
  },
  {
   "cell_type": "markdown",
   "metadata": {},
   "source": [
    "Generate results using leave-one-out training—each book's results are generated by a model trained on all other books. We have two different functions to get these results: one operates on books as wholes, the other averages chapters of specific books."
   ]
  },
  {
   "cell_type": "code",
   "execution_count": 6,
   "metadata": {},
   "outputs": [],
   "source": [
    "def pred_one_out_b(book_out, model, params, books_df=books_df):\n",
    "\n",
    "    train_inds = books_df['book'] != book_out\n",
    "    test_inds = books_df['book'] == book_out\n",
    "    \n",
    "    X_b = pd.DataFrame(list(books_df['book_vec'])).loc[train_inds]\n",
    "    y_b = books_df['authenticity'].loc[train_inds]\n",
    "    \n",
    "    X_b_test = pd.DataFrame(list(books_df['book_vec'])).loc[test_inds]\n",
    "    \n",
    "    ss = StandardScaler()\n",
    "    X_b = ss.fit_transform(X_b)\n",
    "    X_b_test = ss.transform(X_b_test)\n",
    "\n",
    "    model = do_gs(model, params, X_b, y_b)\n",
    "    return (model.predict_proba(X_b_test)[:,1][0])"
   ]
  },
  {
   "cell_type": "code",
   "execution_count": 7,
   "metadata": {},
   "outputs": [],
   "source": [
    "def pred_one_out_c(book_out, model, params, chaps_df=chaps_df):\n",
    "\n",
    "    train_inds = chaps_df['book'] != book_out\n",
    "    test_inds = chaps_df['book'] == book_out\n",
    "    \n",
    "    X_c = pd.DataFrame(list(chaps_df['vec_clean'])).loc[train_inds]\n",
    "    y_c = chaps_df['authenticity'].loc[train_inds]\n",
    "    \n",
    "    X_c_test = pd.DataFrame(list(chaps_df['vec_clean'])).loc[test_inds]\n",
    "    \n",
    "    ss = StandardScaler()\n",
    "    X_c = ss.fit_transform(X_c)\n",
    "    X_c_test = ss.transform(X_c_test)\n",
    "\n",
    "    model = do_gs(model, params, X_c, y_c)\n",
    "    print(f'book {book_out} complete')\n",
    "    return (np.mean(model.predict(X_c_test)), \n",
    "            np.mean(model.predict_proba(X_c_test)[:,1]))"
   ]
  },
  {
   "cell_type": "code",
   "execution_count": 8,
   "metadata": {},
   "outputs": [],
   "source": [
    "svm_params = {\n",
    "    'C':np.logspace(2,4,5),\n",
    "    'kernel':['rbf']\n",
    "}\n",
    "svm = SVC(random_state=seed, gamma='scale',\n",
    "          max_iter=5e4, probability=True)"
   ]
  },
  {
   "cell_type": "code",
   "execution_count": 9,
   "metadata": {},
   "outputs": [
    {
     "name": "stdout",
     "output_type": "stream",
     "text": [
      "book 1 complete\n",
      "book 2 complete\n",
      "book 3 complete\n",
      "book 4 complete\n",
      "book 5 complete\n",
      "book 6 complete\n",
      "book 7 complete\n",
      "book 8 complete\n",
      "book 9 complete\n",
      "book 10 complete\n",
      "book 11 complete\n",
      "book 12 complete\n",
      "book 13 complete\n",
      "book 14 complete\n",
      "book 15 complete\n",
      "book 16 complete\n",
      "book 17 complete\n",
      "book 18 complete\n",
      "book 19 complete\n",
      "book 20 complete\n",
      "book 21 complete\n",
      "book 22 complete\n",
      "book 23 complete\n",
      "book 24 complete\n",
      "book 25 complete\n",
      "book 26 complete\n",
      "book 27 complete\n",
      "book 28 complete\n",
      "book 29 complete\n",
      "book 30 complete\n",
      "book 31 complete\n",
      "book 32 complete\n",
      "book 33 complete\n",
      "book 34 complete\n",
      "book 35 complete\n",
      "book 36 complete\n",
      "book 37 complete\n",
      "book 38 complete\n",
      "book 39 complete\n",
      "book 40 complete\n",
      "book 41 complete\n",
      "book 42 complete\n",
      "book 43 complete\n",
      "book 44 complete\n",
      "book 45 complete\n",
      "book 46 complete\n",
      "book 47 complete\n",
      "book 48 complete\n",
      "book 49 complete\n",
      "book 50 complete\n",
      "book 51 complete\n",
      "book 52 complete\n",
      "book 53 complete\n",
      "book 54 complete\n"
     ]
    }
   ],
   "source": [
    "results = pd.DataFrame({'book':range(1,55)})\n",
    "results['w2vsvm book pred proba'] = results['book'].map(\n",
    "    lambda b:pred_one_out_b(b, svm, svm_params))\n",
    "temp_c = results['book'].map(lambda b:pred_one_out_c(b, svm, svm_params))\n",
    "results['w2vsvm chap pred avg'] = temp_c.map(lambda p:p[0])\n",
    "results['w2vsvm chap pred proba avg'] = temp_c.map(lambda p:p[1])"
   ]
  },
  {
   "cell_type": "code",
   "execution_count": 10,
   "metadata": {},
   "outputs": [],
   "source": [
    "results['authenticity'] = books_df['authenticity']"
   ]
  },
  {
   "cell_type": "code",
   "execution_count": 11,
   "metadata": {},
   "outputs": [],
   "source": [
    "results.to_csv('../data/results.csv', index=False)"
   ]
  },
  {
   "cell_type": "code",
   "execution_count": 12,
   "metadata": {},
   "outputs": [],
   "source": [
    "def col_acc(col):\n",
    "    return 1 - np.mean(\n",
    "        (results['authenticity']-results[col].map(np.round)\n",
    "        ).map(lambda a:abs(int(a)))\n",
    "    )"
   ]
  },
  {
   "cell_type": "code",
   "execution_count": 13,
   "metadata": {},
   "outputs": [
    {
     "data": {
      "text/plain": [
       "(0.8703703703703703, 0.8703703703703703, 0.8518518518518519)"
      ]
     },
     "execution_count": 13,
     "metadata": {},
     "output_type": "execute_result"
    }
   ],
   "source": [
    "col_acc('w2vsvm chap pred avg'), col_acc('w2vsvm chap pred proba avg'), \\\n",
    "    col_acc('w2vsvm book pred proba')"
   ]
  },
  {
   "cell_type": "code",
   "execution_count": 14,
   "metadata": {},
   "outputs": [
    {
     "data": {
      "text/plain": [
       "({25, 26, 29, 32, 34, 53, 54},\n",
       " {25, 28, 29, 34, 50, 53, 54},\n",
       " {24, 25, 26, 34, 48, 50, 53, 54})"
      ]
     },
     "execution_count": 14,
     "metadata": {},
     "output_type": "execute_result"
    }
   ],
   "source": [
    "def inacc_set(col, results=results):\n",
    "    return set(\n",
    "        results[np.round(results[col]) != results['authenticity']].index+1)\n",
    "\n",
    "inacc_set('w2vsvm chap pred avg'), inacc_set('w2vsvm chap pred proba avg'), \\\n",
    "    inacc_set('w2vsvm book pred proba')"
   ]
  },
  {
   "cell_type": "code",
   "execution_count": 15,
   "metadata": {},
   "outputs": [
    {
     "data": {
      "text/plain": [
       "[24, 25, 26, 28, 29, 32, 34, 48, 50, 53, 54]"
      ]
     },
     "execution_count": 15,
     "metadata": {},
     "output_type": "execute_result"
    }
   ],
   "source": [
    "bads = sorted(list(inacc_set('w2vsvm book pred proba') |\n",
    "                   inacc_set('w2vsvm chap pred proba avg') |\n",
    "                   inacc_set('w2vsvm chap pred avg')))\n",
    "bads"
   ]
  },
  {
   "cell_type": "code",
   "execution_count": 16,
   "metadata": {},
   "outputs": [
    {
     "data": {
      "image/png": "[encoded data removed]",
      "text/plain": [
       "<Figure size 648x288 with 1 Axes>"
      ]
     },
     "metadata": {
      "needs_background": "light"
     },
     "output_type": "display_data"
    }
   ],
   "source": [
    "import matplotlib.pyplot as plt\n",
    "\n",
    "plt.figure(figsize=(9,4))\n",
    "plt.axhline(.5,c='#555555')\n",
    "plt.scatter(range(1,55),results['authenticity'],\n",
    "            c='k', marker='_')\n",
    "plt.scatter(bads, results.loc[results['book'].map(lambda b: b in bads),\n",
    "                              'authenticity'],\n",
    "            c='lime', marker='_', alpha=1)\n",
    "plt.scatter(range(1,55),results['w2vsvm chap pred avg'],\n",
    "            c='r', marker='.')\n",
    "plt.scatter(range(1,55),results['w2vsvm chap pred proba avg'],\n",
    "            c='pink', marker='.')\n",
    "plt.scatter(range(1,55),results['w2vsvm book pred proba'], \n",
    "            c='c', marker='.')\n",
    "plt.legend(['50%','true authenticity', 'a method mispredicted this book',\n",
    "            'chap pred avg','chap pred proba avg','book pred proba'],\n",
    "           fancybox=True, framealpha=0)\n",
    "plt.xlabel('book number')\n",
    "plt.ylabel('authenticity proba')\n",
    "plt.savefig('../figures/svm_results.png');"
   ]
  },
  {
   "cell_type": "markdown",
   "metadata": {},
   "source": [
    "This is strong evidence **against** this method of inquiry with regard to these texts. We know that most authentic Animorphs books are early on in the series, and most ghostwritten books are later. However, even within the ghostwriter-free section at the beginning of the series, our model trends away from maximum probability of authenticity over time.\n",
    "\n",
    "Because the themes and topics of the series changed over time, I suspect that our models are better at recognizing content differences than author differences—they identify a *content shift* rather than an *author shift* or *style shift* in the early non-ghostwritten section, and the books that they fail to accurately predict are those unusually placed, chronologically. This is strong evidence that this method simply isn't cleanly picking up on authorship or style, and is thus inappropriate for determining author authenticity on this dataset."
   ]
  },
  {
   "cell_type": "markdown",
   "metadata": {},
   "source": [
    "After reading [these](https://pdfs.semanticscholar.org/3fd9/c3a45629393465e7258dee0f1eaab32ea4bc.pdf) [papers](https://www.aclweb.org/anthology/Q15-1016.pdf), I have become skeptical of the ability of conceptual vectorizations such as word2vec in determining true authorship, especially when the corpus influences it to respond more to author-agnostic content than to style."
   ]
  },
  {
   "cell_type": "markdown",
   "metadata": {},
   "source": [
    "Because Word2Vec analysis seems unfruitful, I will treat this as my baseline and attempt some more traditional stylometric analyses that are clearly geared toward style rather than content."
   ]
  }
 ],
 "metadata": {
  "kernelspec": {
   "display_name": "Python 3",
   "language": "python",
   "name": "python3"
  },
  "language_info": {
   "codemirror_mode": {
    "name": "ipython",
    "version": 3
   },
   "file_extension": ".py",
   "mimetype": "text/x-python",
   "name": "python",
   "nbconvert_exporter": "python",
   "pygments_lexer": "ipython3",
   "version": "3.7.6"
  }
 },
 "nbformat": 4,
 "nbformat_minor": 4
}
