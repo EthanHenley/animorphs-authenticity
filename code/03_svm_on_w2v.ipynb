{
 "cells": [
  {
   "cell_type": "markdown",
   "metadata": {},
   "source": [
    "Imports."
   ]
  },
  {
   "cell_type": "code",
   "execution_count": 23,
   "metadata": {},
   "outputs": [],
   "source": [
    "import numpy as np\n",
    "\n",
    "import pandas as pd\n",
    "\n",
    "from ast import literal_eval\n",
    "\n",
    "from sklearn.model_selection import GridSearchCV\n",
    "from sklearn.svm import SVC"
   ]
  },
  {
   "cell_type": "markdown",
   "metadata": {},
   "source": [
    "Load `chaps_df` and undo array-to-list."
   ]
  },
  {
   "cell_type": "code",
   "execution_count": 2,
   "metadata": {},
   "outputs": [
    {
     "data": {
      "text/html": [
       "<div>\n",
       "<style scoped>\n",
       "    .dataframe tbody tr th:only-of-type {\n",
       "        vertical-align: middle;\n",
       "    }\n",
       "\n",
       "    .dataframe tbody tr th {\n",
       "        vertical-align: top;\n",
       "    }\n",
       "\n",
       "    .dataframe thead th {\n",
       "        text-align: right;\n",
       "    }\n",
       "</style>\n",
       "<table border=\"1\" class=\"dataframe\">\n",
       "  <thead>\n",
       "    <tr style=\"text-align: right;\">\n",
       "      <th></th>\n",
       "      <th>book</th>\n",
       "      <th>chapter</th>\n",
       "      <th>text</th>\n",
       "      <th>authenticity</th>\n",
       "      <th>clean</th>\n",
       "      <th>clean_no_stops</th>\n",
       "      <th>vec_clean</th>\n",
       "    </tr>\n",
       "  </thead>\n",
       "  <tbody>\n",
       "    <tr>\n",
       "      <th>0</th>\n",
       "      <td>1</td>\n",
       "      <td>1</td>\n",
       "      <td>My name is Jake. That's my first name, obvious...</td>\n",
       "      <td>1</td>\n",
       "      <td>[name, thats, first, name, obviously, cant, te...</td>\n",
       "      <td>[my, name, is, jake, thats, my, first, name, o...</td>\n",
       "      <td>[0.050813198, 0.21546867, -0.11217794, 0.05301...</td>\n",
       "    </tr>\n",
       "    <tr>\n",
       "      <th>1</th>\n",
       "      <td>1</td>\n",
       "      <td>2</td>\n",
       "      <td>\"A flying saucer?\" Marco said. He did laugh. T...</td>\n",
       "      <td>1</td>\n",
       "      <td>[flying, saucer, laugh, looked, could, feel, h...</td>\n",
       "      <td>[a, flying, saucer, marco, said, he, did, laug...</td>\n",
       "      <td>[0.0059409393, 0.23846294, -0.09167185, 0.0067...</td>\n",
       "    </tr>\n",
       "    <tr>\n",
       "      <th>2</th>\n",
       "      <td>1</td>\n",
       "      <td>3</td>\n",
       "      <td>&lt;They have come to destroy you.&gt;\\nIt was stran...</td>\n",
       "      <td>1</td>\n",
       "      <td>[come, destroy, strange, way, knew, telling, t...</td>\n",
       "      <td>[they, have, come, to, destroy, you, it, was, ...</td>\n",
       "      <td>[0.00516426, 0.25513598, -0.040639274, -0.0519...</td>\n",
       "    </tr>\n",
       "    <tr>\n",
       "      <th>3</th>\n",
       "      <td>1</td>\n",
       "      <td>4</td>\n",
       "      <td>&lt;Yeerks!&gt;\\nThe twin red lights slowed. They tu...</td>\n",
       "      <td>1</td>\n",
       "      <td>[yeerks, twin, red, lights, slowed, turned, ci...</td>\n",
       "      <td>[yeerks, the, twin, red, lights, slowed, they,...</td>\n",
       "      <td>[-0.027513022, 0.24088845, 0.00715725, -0.0299...</td>\n",
       "    </tr>\n",
       "    <tr>\n",
       "      <th>4</th>\n",
       "      <td>1</td>\n",
       "      <td>5</td>\n",
       "      <td>The Hork-Bajir pointed his gun, or whatever it...</td>\n",
       "      <td>1</td>\n",
       "      <td>[hork, bajir, pointed, gun, whatever, around, ...</td>\n",
       "      <td>[the, hork, bajir, pointed, his, gun, or, what...</td>\n",
       "      <td>[-0.037028935, 0.29484826, 0.030976577, -0.076...</td>\n",
       "    </tr>\n",
       "  </tbody>\n",
       "</table>\n",
       "</div>"
      ],
      "text/plain": [
       "   book  chapter                                               text  \\\n",
       "0     1        1  My name is Jake. That's my first name, obvious...   \n",
       "1     1        2  \"A flying saucer?\" Marco said. He did laugh. T...   \n",
       "2     1        3  <They have come to destroy you.>\\nIt was stran...   \n",
       "3     1        4  <Yeerks!>\\nThe twin red lights slowed. They tu...   \n",
       "4     1        5  The Hork-Bajir pointed his gun, or whatever it...   \n",
       "\n",
       "   authenticity                                              clean  \\\n",
       "0             1  [name, thats, first, name, obviously, cant, te...   \n",
       "1             1  [flying, saucer, laugh, looked, could, feel, h...   \n",
       "2             1  [come, destroy, strange, way, knew, telling, t...   \n",
       "3             1  [yeerks, twin, red, lights, slowed, turned, ci...   \n",
       "4             1  [hork, bajir, pointed, gun, whatever, around, ...   \n",
       "\n",
       "                                      clean_no_stops  \\\n",
       "0  [my, name, is, jake, thats, my, first, name, o...   \n",
       "1  [a, flying, saucer, marco, said, he, did, laug...   \n",
       "2  [they, have, come, to, destroy, you, it, was, ...   \n",
       "3  [yeerks, the, twin, red, lights, slowed, they,...   \n",
       "4  [the, hork, bajir, pointed, his, gun, or, what...   \n",
       "\n",
       "                                           vec_clean  \n",
       "0  [0.050813198, 0.21546867, -0.11217794, 0.05301...  \n",
       "1  [0.0059409393, 0.23846294, -0.09167185, 0.0067...  \n",
       "2  [0.00516426, 0.25513598, -0.040639274, -0.0519...  \n",
       "3  [-0.027513022, 0.24088845, 0.00715725, -0.0299...  \n",
       "4  [-0.037028935, 0.29484826, 0.030976577, -0.076...  "
      ]
     },
     "execution_count": 2,
     "metadata": {},
     "output_type": "execute_result"
    }
   ],
   "source": [
    "chaps_df = pd.read_csv('../data/animorphs_chaps.csv')\n",
    "\n",
    "for col in ['clean','clean_no_stops', 'vec_clean']:\n",
    "    chaps_df[col] = chaps_df[col].map(literal_eval) # as lists\n",
    "    \n",
    "for col in ['vec_clean']:\n",
    "    chaps_df[col] = chaps_df[col].map(np.array) # as array\n",
    "    \n",
    "chaps_df.head()"
   ]
  },
  {
   "cell_type": "markdown",
   "metadata": {},
   "source": [
    "Load `books_df` and undo array-to-list."
   ]
  },
  {
   "cell_type": "code",
   "execution_count": 3,
   "metadata": {},
   "outputs": [
    {
     "data": {
      "text/html": [
       "<div>\n",
       "<style scoped>\n",
       "    .dataframe tbody tr th:only-of-type {\n",
       "        vertical-align: middle;\n",
       "    }\n",
       "\n",
       "    .dataframe tbody tr th {\n",
       "        vertical-align: top;\n",
       "    }\n",
       "\n",
       "    .dataframe thead th {\n",
       "        text-align: right;\n",
       "    }\n",
       "</style>\n",
       "<table border=\"1\" class=\"dataframe\">\n",
       "  <thead>\n",
       "    <tr style=\"text-align: right;\">\n",
       "      <th></th>\n",
       "      <th>book</th>\n",
       "      <th>book_vec</th>\n",
       "      <th>avg_chap_vec</th>\n",
       "      <th>authenticity</th>\n",
       "    </tr>\n",
       "  </thead>\n",
       "  <tbody>\n",
       "    <tr>\n",
       "      <th>0</th>\n",
       "      <td>1</td>\n",
       "      <td>[0.0010895184, 0.2081184, -0.05931624, 0.01286...</td>\n",
       "      <td>[-0.0027950632, 0.20982857, -0.058019806, 0.01...</td>\n",
       "      <td>1</td>\n",
       "    </tr>\n",
       "    <tr>\n",
       "      <th>1</th>\n",
       "      <td>2</td>\n",
       "      <td>[-0.00226549, 0.22271992, -0.065148115, 0.0113...</td>\n",
       "      <td>[-0.0009056398, 0.22276656, -0.06607905, 0.012...</td>\n",
       "      <td>1</td>\n",
       "    </tr>\n",
       "    <tr>\n",
       "      <th>2</th>\n",
       "      <td>3</td>\n",
       "      <td>[-0.0129256295, 0.21558568, -0.05230921, 0.003...</td>\n",
       "      <td>[-0.015145328, 0.21650073, -0.0493573, 0.00182...</td>\n",
       "      <td>1</td>\n",
       "    </tr>\n",
       "    <tr>\n",
       "      <th>3</th>\n",
       "      <td>4</td>\n",
       "      <td>[-0.0025382496, 0.21817772, -0.069260634, 0.00...</td>\n",
       "      <td>[-0.0047836, 0.21768926, -0.06756582, 0.005677...</td>\n",
       "      <td>1</td>\n",
       "    </tr>\n",
       "    <tr>\n",
       "      <th>4</th>\n",
       "      <td>5</td>\n",
       "      <td>[-0.00024276103, 0.22412194, -0.05454963, 0.00...</td>\n",
       "      <td>[-0.0009346308, 0.22463025, -0.055034954, 0.00...</td>\n",
       "      <td>1</td>\n",
       "    </tr>\n",
       "  </tbody>\n",
       "</table>\n",
       "</div>"
      ],
      "text/plain": [
       "   book                                           book_vec  \\\n",
       "0     1  [0.0010895184, 0.2081184, -0.05931624, 0.01286...   \n",
       "1     2  [-0.00226549, 0.22271992, -0.065148115, 0.0113...   \n",
       "2     3  [-0.0129256295, 0.21558568, -0.05230921, 0.003...   \n",
       "3     4  [-0.0025382496, 0.21817772, -0.069260634, 0.00...   \n",
       "4     5  [-0.00024276103, 0.22412194, -0.05454963, 0.00...   \n",
       "\n",
       "                                        avg_chap_vec  authenticity  \n",
       "0  [-0.0027950632, 0.20982857, -0.058019806, 0.01...             1  \n",
       "1  [-0.0009056398, 0.22276656, -0.06607905, 0.012...             1  \n",
       "2  [-0.015145328, 0.21650073, -0.0493573, 0.00182...             1  \n",
       "3  [-0.0047836, 0.21768926, -0.06756582, 0.005677...             1  \n",
       "4  [-0.0009346308, 0.22463025, -0.055034954, 0.00...             1  "
      ]
     },
     "execution_count": 3,
     "metadata": {},
     "output_type": "execute_result"
    }
   ],
   "source": [
    "books_df = pd.read_csv('../data/animorphs_books.csv')\n",
    "\n",
    "for col in ['book_vec','avg_chap_vec']:\n",
    "    books_df[col] = books_df[col].map(literal_eval) # as lists\n",
    "    \n",
    "for col in ['book_vec','avg_chap_vec']:\n",
    "    books_df[col] = books_df[col].map(np.array) # as array\n",
    "    \n",
    "books_df.head()"
   ]
  },
  {
   "cell_type": "markdown",
   "metadata": {},
   "source": [
    "Modeling."
   ]
  },
  {
   "cell_type": "code",
   "execution_count": 25,
   "metadata": {},
   "outputs": [],
   "source": [
    "seed = 1007\n",
    "cv_times = 5"
   ]
  },
  {
   "cell_type": "markdown",
   "metadata": {},
   "source": [
    "A manual, not-cross-validated gridsearch. This is desirable because of our leave-one-out training, which will be detailed ahead."
   ]
  },
  {
   "cell_type": "code",
   "execution_count": 5,
   "metadata": {},
   "outputs": [],
   "source": [
    "def do_gs(model, params, X, y): # do gridsearch\n",
    "    # adapted from David at https://stackoverflow.com/questions/34624978\n",
    "    \n",
    "    best_score = -1\n",
    "    best_p = {}\n",
    "    \n",
    "    for p in ParameterGrid(params):\n",
    "        \n",
    "        model.set_params(**p)\n",
    "#         print(p)\n",
    "        model.fit(X,y)\n",
    "        \n",
    "        if model.score(X,y) > best_score:\n",
    "            best_score = model.score(X,y)\n",
    "            best_p = p\n",
    "            \n",
    "    model.set_params(**best_p)\n",
    "    model.fit(X,y)\n",
    "    \n",
    "    return model"
   ]
  },
  {
   "cell_type": "markdown",
   "metadata": {},
   "source": [
    "Generate results using leave-one-out training—each book's results are generated by a model trained on all other books. We have two different functions to get these results: one operates on books as wholes, the other averages chapters of specific books."
   ]
  },
  {
   "cell_type": "code",
   "execution_count": 36,
   "metadata": {},
   "outputs": [],
   "source": [
    "def pred_one_out_b(book_out, model, params, books_df=books_df):\n",
    "\n",
    "    train_inds = books_df['book'] != book_out\n",
    "    test_inds = books_df['book'] == book_out\n",
    "    \n",
    "    X_b = pd.DataFrame(list(books_df['book_vec'])).loc[train_inds]\n",
    "    y_b = books_df['authenticity'].loc[train_inds]\n",
    "    \n",
    "    X_b_test = pd.DataFrame(list(books_df['book_vec'])).loc[test_inds]\n",
    "\n",
    "    model = do_gs(model, params, X_b, y_b)\n",
    "#     print(model.get_params())\n",
    "    return (model.predict_proba(X_b_test)[:,1][0])"
   ]
  },
  {
   "cell_type": "code",
   "execution_count": 51,
   "metadata": {},
   "outputs": [],
   "source": [
    "def pred_one_out_c(book_out, model, params, chaps_df=chaps_df):\n",
    "\n",
    "    train_inds = chaps_df['book'] != book_out\n",
    "    test_inds = chaps_df['book'] == book_out\n",
    "    \n",
    "    X_c = pd.DataFrame(list(chaps_df['vec_clean'])).loc[train_inds]\n",
    "    y_c = chaps_df['authenticity'].loc[train_inds]\n",
    "    \n",
    "    X_c_test = pd.DataFrame(list(chaps_df['vec_clean'])).loc[test_inds]\n",
    "\n",
    "    model = do_gs(model, params, X_c, y_c)\n",
    "    print(model.get_params())\n",
    "    return (np.mean(model.predict(X_c_test)), \n",
    "            np.mean(model.predict_proba(X_c_test)[:,1]))"
   ]
  },
  {
   "cell_type": "code",
   "execution_count": 68,
   "metadata": {},
   "outputs": [],
   "source": [
    "svm_params = {\n",
    "    'C':np.logspace(-3,3,7),\n",
    "    'kernel':['rbf']\n",
    "}\n",
    "svm = SVC(random_state=seed, gamma='scale',\n",
    "          max_iter=1e4, probability=True)"
   ]
  },
  {
   "cell_type": "code",
   "execution_count": 9,
   "metadata": {},
   "outputs": [],
   "source": [
    "results = pd.DataFrame({'book':range(1,55)})\n",
    "results['book pred proba'] = results['book'].map(\n",
    "    lambda b:pred_one_out_b(b, svm, svm_params))\n",
    "temp_c = results['book'].map(lambda b:pred_one_out_c(b, svm, svm_params))\n",
    "results['chap pred avg'] = temp_c.map(lambda p:p[0])\n",
    "results['chap pred proba avg'] = temp_c.map(lambda p:p[1])"
   ]
  },
  {
   "cell_type": "code",
   "execution_count": 10,
   "metadata": {},
   "outputs": [],
   "source": [
    "results['authenticity'] = books_df['authenticity']"
   ]
  },
  {
   "cell_type": "code",
   "execution_count": 11,
   "metadata": {},
   "outputs": [],
   "source": [
    "results.to_csv('../data/results_svm.csv', index=False)"
   ]
  },
  {
   "cell_type": "code",
   "execution_count": 12,
   "metadata": {},
   "outputs": [],
   "source": [
    "def col_acc(col):\n",
    "    return 1 - np.mean(\n",
    "        (results['authenticity']-results[col].map(np.round)\n",
    "        ).map(lambda a:abs(int(a)))\n",
    "    )"
   ]
  },
  {
   "cell_type": "code",
   "execution_count": 13,
   "metadata": {},
   "outputs": [
    {
     "data": {
      "text/plain": [
       "(0.9074074074074074, 0.8888888888888888, 0.8888888888888888)"
      ]
     },
     "execution_count": 13,
     "metadata": {},
     "output_type": "execute_result"
    }
   ],
   "source": [
    "col_acc('chap pred avg'), col_acc('chap pred proba avg'), \\\n",
    "    col_acc('book pred proba')"
   ]
  },
  {
   "cell_type": "code",
   "execution_count": 74,
   "metadata": {},
   "outputs": [
    {
     "data": {
      "text/plain": [
       "[13, 16, 24, 25, 28, 33, 52, 53]"
      ]
     },
     "execution_count": 74,
     "metadata": {},
     "output_type": "execute_result"
    }
   ],
   "source": [
    "def inacc_set(thing, results=results):\n",
    "    return set(results[np.round(thing) != results['authenticity']].index)\n",
    "\n",
    "bads = sorted(list(inacc_set(results['book pred proba']) |\n",
    "                   inacc_set(results['chap pred proba avg']) |\n",
    "                   inacc_set(results['chap pred avg'])))\n",
    "bads"
   ]
  },
  {
   "cell_type": "code",
   "execution_count": 76,
   "metadata": {},
   "outputs": [
    {
     "data": {
      "image/png": "[encoded data removed]",
      "text/plain": [
       "<Figure size 648x288 with 1 Axes>"
      ]
     },
     "metadata": {
      "needs_background": "light"
     },
     "output_type": "display_data"
    }
   ],
   "source": [
    "import matplotlib.pyplot as plt\n",
    "\n",
    "plt.figure(figsize=(9,4))\n",
    "plt.axhline(.5,c='#555555')\n",
    "plt.scatter(range(1,55),results['authenticity'],\n",
    "            c='k', marker='_')\n",
    "plt.scatter([b+1 for b in bads], results.loc[bads, 'authenticity'],\n",
    "            c='lime', marker='_', alpha=1)\n",
    "plt.scatter(range(1,55),results['chap pred avg'],\n",
    "            c='r', marker='.')\n",
    "plt.scatter(range(1,55),results['chap pred proba avg'],\n",
    "            c='pink', marker='.')\n",
    "plt.scatter(range(1,55),results['book pred proba'], \n",
    "            c='c', marker='.')\n",
    "plt.legend(['50%','true authenticity', 'a method mispredicted this book',\n",
    "            'chap pred avg','chap pred proba avg','book pred proba'])\n",
    "plt.xlabel('book number')\n",
    "plt.ylabel('authenticity proba')\n",
    "plt.savefig('../figures/svm_results.png');"
   ]
  },
  {
   "cell_type": "markdown",
   "metadata": {},
   "source": [
    "This is strong evidence **against** this method of inquiry with regard to these texts. The above plot shows that most authentic Animorphs books are early on in the series, and most ghostwritten books are later. Because the themes and topics of the series changed over time, I suspect that our models are better at recognizing content differences than author differences—the books that they fail to accurately predict are those unusually placed, chronologically. This is strong evidence that this method does not suit this problem."
   ]
  },
  {
   "cell_type": "markdown",
   "metadata": {},
   "source": [
    "After reading [these](https://pdfs.semanticscholar.org/3fd9/c3a45629393465e7258dee0f1eaab32ea4bc.pdf) [papers](https://www.aclweb.org/anthology/Q15-1016.pdf), I have become skeptical of the ability of conceptual vectorizations such as word2vec in determining true authorship, especially when the corpus influences it to respond more to author-agnostic content than to style."
   ]
  },
  {
   "cell_type": "markdown",
   "metadata": {},
   "source": [
    "Because Word2Vec analysis seems unfruitful, I will treat this as my baseline and attempt some more traditional stylometric analyses that are clearly geared toward style rather than content."
   ]
  }
 ],
 "metadata": {
  "kernelspec": {
   "display_name": "Python 3",
   "language": "python",
   "name": "python3"
  },
  "language_info": {
   "codemirror_mode": {
    "name": "ipython",
    "version": 3
   },
   "file_extension": ".py",
   "mimetype": "text/x-python",
   "name": "python",
   "nbconvert_exporter": "python",
   "pygments_lexer": "ipython3",
   "version": "3.7.6"
  }
 },
 "nbformat": 4,
 "nbformat_minor": 4
}
